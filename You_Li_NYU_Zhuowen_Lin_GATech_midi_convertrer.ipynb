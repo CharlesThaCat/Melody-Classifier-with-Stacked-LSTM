{
  "nbformat": 4,
  "nbformat_minor": 0,
  "metadata": {
    "colab": {
      "name": "midi_convertrer.ipynb",
      "provenance": [],
      "collapsed_sections": []
    },
    "kernelspec": {
      "name": "python3",
      "display_name": "Python 3"
    }
  },
  "cells": [
    {
      "cell_type": "code",
      "metadata": {
        "id": "o2KqIV3xHkxQ",
        "colab_type": "code",
        "colab": {
          "base_uri": "https://localhost:8080/",
          "height": 105
        },
        "outputId": "a83d6d1c-2baa-46af-88d2-922aba9d0d68"
      },
      "source": [
        "# !pip install pretty_midi"
      ],
      "execution_count": null,
      "outputs": [
        {
          "output_type": "stream",
          "text": [
            "Requirement already satisfied: pretty_midi in /usr/local/lib/python3.6/dist-packages (0.2.9)\n",
            "Requirement already satisfied: six in /usr/local/lib/python3.6/dist-packages (from pretty_midi) (1.15.0)\n",
            "Requirement already satisfied: mido>=1.1.16 in /usr/local/lib/python3.6/dist-packages (from pretty_midi) (1.2.9)\n",
            "Requirement already satisfied: numpy>=1.7.0 in /usr/local/lib/python3.6/dist-packages (from pretty_midi) (1.18.5)\n"
          ],
          "name": "stdout"
        }
      ]
    },
    {
      "cell_type": "markdown",
      "metadata": {
        "id": "qr3SdvYzazP4",
        "colab_type": "text"
      },
      "source": [
        "## Convert MIDI files"
      ]
    },
    {
      "cell_type": "code",
      "metadata": {
        "id": "XaruDRDoHulH",
        "colab_type": "code",
        "colab": {}
      },
      "source": [
        "import pretty_midi\n",
        "import numpy as np\n",
        "import glob\n",
        "import os"
      ],
      "execution_count": null,
      "outputs": []
    },
    {
      "cell_type": "code",
      "metadata": {
        "id": "sdptDWWlvFM7",
        "colab_type": "code",
        "colab": {}
      },
      "source": [
        "from zipfile import ZipFile\n",
        "\n",
        "file_name = \"converter.zip\"\n",
        "with ZipFile(file_name,'r') as myzip:\n",
        "    ZipFile.extractall(myzip)"
      ],
      "execution_count": null,
      "outputs": []
    },
    {
      "cell_type": "code",
      "metadata": {
        "id": "xCwxjd0lwiTv",
        "colab_type": "code",
        "colab": {}
      },
      "source": [
        "def strech_midi(path):\n",
        "    midi = pretty_midi.PrettyMIDI(path)\n",
        "    e_time = midi.get_end_time()\n",
        "    r_bpm = 60/e_time*32\n",
        "    tolerance = 0.01\n",
        "    \n",
        "    if abs(np.round(r_bpm)-r_bpm) > tolerance:\n",
        "        t = int(r_bpm)\n",
        "        m = np.asarray([60/((t+i)*4) for i in range(1,5)])\n",
        "        l = np.outer(m,np.arange(1,5)).flatten()\n",
        "        tmp_bpms = np.asarray([60/(e_time-i)*32 for i in l])\n",
        "        diff = abs(np.round(tmp_bpms)-tmp_bpms).reshape((4,4))\n",
        "        ind = np.unravel_index(np.argmin(diff, axis=None), diff.shape)\n",
        "        r_bpm = t+ind[0]+1\n",
        "\n",
        "        print(path,r_bpm,ind[0]+1)\n",
        "\n",
        "    midi_new = pretty_midi.PrettyMIDI(resolution=240,initial_tempo=np.round(r_bpm))\n",
        "\n",
        "    program = pretty_midi.instrument_name_to_program('Acoustic Grand Piano')\n",
        "    piano = pretty_midi.Instrument(program=program)\n",
        "\n",
        "    nt_list = midi.instruments[0].notes\n",
        "    for note in nt_list:\n",
        "        piano.notes.append(note)\n",
        "\n",
        "    midi_new.instruments.append(piano)\n",
        "    return midi_new"
      ],
      "execution_count": null,
      "outputs": []
    },
    {
      "cell_type": "code",
      "metadata": {
        "id": "6tcB_opWpkwp",
        "colab_type": "code",
        "colab": {}
      },
      "source": [
        "def midi_converter(path):\n",
        "    file_path = glob.glob(path)\n",
        "    file_path.sort(key= str.lower)\n",
        "    for f in file_path:\n",
        "        name = f.split('/')[-1]\n",
        "        midi_new = strech_midi(f)\n",
        "        midi_new.write('midinew/{}'.format(name))\n"
      ],
      "execution_count": null,
      "outputs": []
    },
    {
      "cell_type": "code",
      "metadata": {
        "id": "_gZYCjPlR1GY",
        "colab_type": "code",
        "colab": {}
      },
      "source": [
        "midi_converter(\"converter/*.mid\")"
      ],
      "execution_count": null,
      "outputs": []
    },
    {
      "cell_type": "code",
      "metadata": {
        "id": "e3eWY0KQSldB",
        "colab_type": "code",
        "colab": {}
      },
      "source": [
        "def get_all_file_paths(directory): \n",
        "    file_paths = [] \n",
        "    for root, directories, files in os.walk(directory): \n",
        "        for filename in files: \n",
        "            filepath = os.path.join(root, filename) \n",
        "            file_paths.append(filepath) \n",
        "    return file_paths         \n",
        "  \n",
        "directory = './midinew' \n",
        "fp = get_all_file_paths(directory) \n",
        "\n",
        "with ZipFile('midinew.zip','w') as zip: \n",
        "    for f in fp: \n",
        "        zip.write(f) "
      ],
      "execution_count": null,
      "outputs": []
    }
  ]
}