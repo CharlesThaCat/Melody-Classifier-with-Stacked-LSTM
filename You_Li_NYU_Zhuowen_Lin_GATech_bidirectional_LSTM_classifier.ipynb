{
  "nbformat": 4,
  "nbformat_minor": 0,
  "metadata": {
    "colab": {
      "name": "LSTM_classifier_bidirectional.ipynb",
      "provenance": [],
      "collapsed_sections": [],
      "toc_visible": true
    },
    "kernelspec": {
      "name": "python3",
      "display_name": "Python 3"
    },
    "accelerator": "GPU"
  },
  "cells": [
    {
      "cell_type": "markdown",
      "metadata": {
        "id": "8NJjvIq7ZjYK",
        "colab_type": "text"
      },
      "source": [
        "# LSTM_classifier_with_multiple_embeddings(onehot)\n",
        "---\n",
        "### You Li & Zhuowen Lin\n",
        "\n",
        "Requirements:\\\n",
        "pandas==1.0.5\\\n",
        "numpy==1.19.0\\\n",
        "pretty_midi==0.2.9\\\n",
        "torch==1.5.1+cu101\\\n",
        "matplotlib==3.2.2\\\n",
        "PyYAML==5.3.1\\\n",
        "rich==3.2.0\\\n",
        "scikit_learn==0.23.1\\\n"
      ]
    },
    {
      "cell_type": "code",
      "metadata": {
        "id": "noGdkLHs1pu1",
        "colab_type": "code",
        "colab": {}
      },
      "source": [
        "import glob\n",
        "import numpy as np\n",
        "import pandas as pd\n",
        "from music21 import midi,note,pitch,interval\n",
        "import sklearn.utils\n",
        "from sklearn import preprocessing,metrics"
      ],
      "execution_count": 11,
      "outputs": []
    },
    {
      "cell_type": "code",
      "metadata": {
        "id": "hJ9nj_8O3JjM",
        "colab_type": "code",
        "colab": {}
      },
      "source": [
        "from zipfile import ZipFile\n",
        "\n",
        "file_name = \"You_Li_NYU_Zhuowen_Lin_GATech_data-1000.zip\"\n",
        "with ZipFile(file_name,'r') as myzip:\n",
        "    ZipFile.extractall(myzip)"
      ],
      "execution_count": 12,
      "outputs": []
    },
    {
      "cell_type": "markdown",
      "metadata": {
        "id": "C5Iaekm1aGN_",
        "colab_type": "text"
      },
      "source": [
        "## Data preperation"
      ]
    },
    {
      "cell_type": "code",
      "metadata": {
        "id": "dx5cLes63b5g",
        "colab_type": "code",
        "colab": {}
      },
      "source": [
        "def setKeys(midiStream):\n",
        "    key = midiStream.analyze('key')\n",
        "    #The pitch of the tone of the original key\n",
        "    originPitch = pitch.Pitch(key.tonic)\n",
        "    #set target key\n",
        "    if key.mode == \"major\":\n",
        "        targetPitch = pitch.Pitch('C')\n",
        "        pitchInterval = interval.notesToChromatic(originPitch,targetPitch).semitones\n",
        "        if pitchInterval > 6:\n",
        "            pitchInterval = pitchInterval-12\n",
        "        elif pitchInterval < -6:\n",
        "            pitchInterval = pitchInterval+12\n",
        "        if key.tonic != \"C\":\n",
        "            midiStream.transpose(pitchInterval ,inPlace=True)\n",
        "    elif key.mode == \"minor\":\n",
        "        targetPitch = pitch.Pitch('A')\n",
        "        pitchInterval = interval.notesToChromatic(originPitch,targetPitch).semitones\n",
        "        if pitchInterval > 6:\n",
        "            pitchInterval = pitchInterval-12\n",
        "        elif pitchInterval < -6:\n",
        "            pitchInterval = pitchInterval+12\n",
        "        if key.tonic != \"A\":\n",
        "            midiStream.transpose(pitchInterval ,inPlace=True)\n",
        "    return midiStream"
      ],
      "execution_count": 13,
      "outputs": []
    },
    {
      "cell_type": "code",
      "metadata": {
        "id": "FDK9d8JA3lV9",
        "colab_type": "code",
        "colab": {}
      },
      "source": [
        "def folder_list(path,label=None):\n",
        "    midifile_path = glob.glob(path)\n",
        "    midifile_path.sort(key= str.lower)\n",
        "    melody_list = []\n",
        "    for f in midifile_path:\n",
        "        midifile = midi.translate.midiFilePathToStream(f)\n",
        "        midifile = setKeys(midifile)\n",
        "        notes = list(midifile.flat.getElementsByClass(classFilterList=[note.Note]))\n",
        "        if label is not None:\n",
        "            melody = [[str(m.pitch),\n",
        "                       str(m.offset%4),\n",
        "                       str(m.duration.quarterLength),\n",
        "                       label] for m in notes]\n",
        "        else:\n",
        "            melody = [[str(m.pitch),\n",
        "                       str(m.offset%4),\n",
        "                       str(m.duration.quarterLength)] for m in notes]\n",
        "        melody_list.append(melody)\n",
        "    return melody_list"
      ],
      "execution_count": 14,
      "outputs": []
    },
    {
      "cell_type": "code",
      "metadata": {
        "id": "pvdtXIXr_db1",
        "colab_type": "code",
        "colab": {}
      },
      "source": [
        "# Parse sequence\n",
        "data = (folder_list(\"/content/data-1000/train/fake/*.mid\",0) + \n",
        "        folder_list(\"/content/data-1000/train/real/*.mid\",1))\n",
        "test = folder_list(\"/content/data-1000/test/*.mid\")"
      ],
      "execution_count": 15,
      "outputs": []
    },
    {
      "cell_type": "code",
      "metadata": {
        "id": "nzo_sAz5mMg6",
        "colab_type": "code",
        "colab": {}
      },
      "source": [
        "# Suffle training data\n",
        "data_shuffled = sklearn.utils.shuffle(data,random_state=17)\n",
        "val_sep = int(len(data_shuffled)*0.6)\n",
        "train = data_shuffled[:val_sep]\n",
        "val = data_shuffled[val_sep:]"
      ],
      "execution_count": 16,
      "outputs": []
    },
    {
      "cell_type": "code",
      "metadata": {
        "id": "evlYgAiH7q1W",
        "colab_type": "code",
        "colab": {}
      },
      "source": [
        "# constuct dictionary\n",
        "note_dict = set()\n",
        "beat_dict = set()\n",
        "dur_dict = set()\n",
        "for line in train:\n",
        "    line = np.asarray(line)\n",
        "    for note in line[:,0]:\n",
        "        if note not in note_dict:\n",
        "            note_dict.add(note)\n",
        "    for beat in line[:,1]:\n",
        "        if beat not in beat_dict:\n",
        "            beat_dict.add(beat)\n",
        "    for duration in line[:,2]:\n",
        "        if duration not in dur_dict:\n",
        "            dur_dict.add(duration)"
      ],
      "execution_count": 17,
      "outputs": []
    },
    {
      "cell_type": "code",
      "metadata": {
        "id": "FmL46YsicEQN",
        "colab_type": "code",
        "colab": {}
      },
      "source": [
        "maxlen = max([len(line) for line in train])\n",
        "\n",
        "\n",
        "X_train = np.zeros((len(train), maxlen, \n",
        "                    len(note_dict)+len(beat_dict)+len(dur_dict)),dtype='float32')\n",
        "                    \n",
        "X_val = np.zeros((len(val),maxlen,\n",
        "                  len(note_dict)+len(beat_dict)+len(dur_dict)),dtype='float32')\n",
        "                \n",
        "y_train = np.zeros(len(train))\n",
        "y_val = np.zeros(len(val))\n",
        "\n",
        "note_index = dict([(n, i) for i, n in enumerate(list(note_dict))])\n",
        "beat_index = dict([(n, i) for i, n in enumerate(list(beat_dict))])\n",
        "dur_index = dict([(n, i) for i, n in enumerate(list(dur_dict))])\n",
        "# One-hot encoding\n",
        "for j,l in enumerate(train):\n",
        "    for i, n in enumerate(l):\n",
        "        X_train[j, i, note_index[n[0]]] = 1.\n",
        "        X_train[j, i, len(note_dict)+beat_index[n[1]]] = 1.\n",
        "        X_train[j, i, len(note_dict)+len(beat_dict)+dur_index[n[2]]] = 1.\n",
        "        y_train[j] = n[-1]\n",
        "\n",
        "for j,l in enumerate(val):\n",
        "    for i, n in enumerate(l):\n",
        "        if i < maxlen:\n",
        "            if n[0] in note_dict:\n",
        "                X_val[j, i, note_index[n[0]]] = 1.\n",
        "            if n[1] in beat_dict:\n",
        "                X_val[j, i, len(note_dict)+beat_index[n[1]]] = 1.\n",
        "            if n[2] in dur_dict:\n",
        "                X_val[j, i, len(note_dict)+len(beat_dict)+dur_index[n[2]]] = 1.\n",
        "            y_val[j] = n[-1]\n"
      ],
      "execution_count": 18,
      "outputs": []
    },
    {
      "cell_type": "markdown",
      "metadata": {
        "id": "_K-OC50daOXY",
        "colab_type": "text"
      },
      "source": [
        "## Construction Model"
      ]
    },
    {
      "cell_type": "code",
      "metadata": {
        "id": "Tk7LFr7Gd39Y",
        "colab_type": "code",
        "colab": {}
      },
      "source": [
        "import tensorflow as tf\n",
        "from tensorflow import keras\n",
        "from tensorflow.keras import Sequential,Model\n",
        "from tensorflow.keras.layers import *\n",
        "from tensorflow.keras import optimizers\n",
        "from tensorflow.keras.regularizers import l2"
      ],
      "execution_count": 19,
      "outputs": []
    },
    {
      "cell_type": "code",
      "metadata": {
        "id": "AOWEnSdLHvDC",
        "colab_type": "code",
        "colab": {}
      },
      "source": [
        "ipt = Input(shape=(None,len(note_dict)+len(beat_dict)+len(dur_dict)),name=\"Input\")\n",
        "out0 = Bidirectional(LSTM(64,activity_regularizer=l2(0.001),\n",
        "            # recurrent_dropout=0.2,\n",
        "            return_sequences=True,name=\"LSTM0\"))(ipt)\n",
        "out0 = Dropout(0.4,name=\"Dropout0\")(out0)\n",
        "out0 = Bidirectional(LSTM(8,name=\"LSTM1\"))(out0)\n",
        "out0 = Dropout(0.4,name=\"Dropout1\")(out0)\n",
        "fc_out = Dense(1, activation='sigmoid',name=\"Dense\")(out0)\n",
        "\n",
        "model = Model(inputs=ipt, outputs=[fc_out])"
      ],
      "execution_count": 20,
      "outputs": []
    },
    {
      "cell_type": "code",
      "metadata": {
        "id": "GCxPbrrHfHLD",
        "colab_type": "code",
        "colab": {
          "base_uri": "https://localhost:8080/",
          "height": 357
        },
        "outputId": "d0b6bed5-4bae-41da-8da5-11d680912e72"
      },
      "source": [
        "model.summary()"
      ],
      "execution_count": 21,
      "outputs": [
        {
          "output_type": "stream",
          "text": [
            "Model: \"functional_1\"\n",
            "_________________________________________________________________\n",
            "Layer (type)                 Output Shape              Param #   \n",
            "=================================================================\n",
            "Input (InputLayer)           [(None, None, 154)]       0         \n",
            "_________________________________________________________________\n",
            "bidirectional (Bidirectional (None, None, 128)         112128    \n",
            "_________________________________________________________________\n",
            "Dropout0 (Dropout)           (None, None, 128)         0         \n",
            "_________________________________________________________________\n",
            "bidirectional_1 (Bidirection (None, 16)                8768      \n",
            "_________________________________________________________________\n",
            "Dropout1 (Dropout)           (None, 16)                0         \n",
            "_________________________________________________________________\n",
            "Dense (Dense)                (None, 1)                 17        \n",
            "=================================================================\n",
            "Total params: 120,913\n",
            "Trainable params: 120,913\n",
            "Non-trainable params: 0\n",
            "_________________________________________________________________\n"
          ],
          "name": "stdout"
        }
      ]
    },
    {
      "cell_type": "code",
      "metadata": {
        "id": "SSCkXMw-emMo",
        "colab_type": "code",
        "colab": {
          "base_uri": "https://localhost:8080/",
          "height": 564
        },
        "outputId": "f22990ab-84c1-46b6-81e6-3f36ec7d6da0"
      },
      "source": [
        "from IPython.display import SVG\n",
        "from tensorflow.keras.utils import plot_model,model_to_dot\n",
        "\n",
        "SVG(model_to_dot(model, show_shapes=False).create(prog='dot', format='svg'))\n",
        "\n",
        "plot_model(\n",
        "    model=model, show_shapes=False,\n",
        "    to_file='model.jpg'\n",
        ")"
      ],
      "execution_count": 22,
      "outputs": [
        {
          "output_type": "execute_result",
          "data": {
            "image/jpeg": "[encoded data removed]",
            "text/plain": [
              "<IPython.core.display.Image object>"
            ]
          },
          "metadata": {
            "tags": []
          },
          "execution_count": 22
        }
      ]
    },
    {
      "cell_type": "code",
      "metadata": {
        "id": "_01tq4MYxYh9",
        "colab_type": "code",
        "colab": {}
      },
      "source": [
        "RMSprop = optimizers.RMSprop(lr=0.0001, rho=0.9, epsilon=1e-7, decay=0.0)\n",
        "model.compile(optimizer=RMSprop, loss='binary_crossentropy',metrics=['acc'])"
      ],
      "execution_count": 23,
      "outputs": []
    },
    {
      "cell_type": "code",
      "metadata": {
        "id": "647gTfKQzaqj",
        "colab_type": "code",
        "colab": {}
      },
      "source": [
        "checkpoint_filepath = '/tmp/checkpoint'\n",
        "model_checkpoint_callback = tf.keras.callbacks.ModelCheckpoint(\n",
        "    filepath=checkpoint_filepath,\n",
        "    save_weights_only=True,\n",
        "    monitor='val_acc',\n",
        "    mode='max',\n",
        "    save_best_only=True)"
      ],
      "execution_count": 24,
      "outputs": []
    },
    {
      "cell_type": "code",
      "metadata": {
        "id": "lGWvV7lmf6va",
        "colab_type": "code",
        "colab": {
          "base_uri": "https://localhost:8080/",
          "height": 1000
        },
        "outputId": "8bf24ba5-d90a-434f-ff28-fc2111949b8d"
      },
      "source": [
        "model.fit(X_train, y_train, \n",
        "          epochs=50,\n",
        "          batch_size=32,\n",
        "          validation_data=(X_val,y_val),\n",
        "          callbacks=[model_checkpoint_callback],\n",
        "          shuffle=True)"
      ],
      "execution_count": 25,
      "outputs": [
        {
          "output_type": "stream",
          "text": [
            "Epoch 1/50\n",
            "132/132 [==============================] - 6s 43ms/step - loss: 0.5842 - acc: 0.8212 - val_loss: 0.4728 - val_acc: 0.8564\n",
            "Epoch 2/50\n",
            "132/132 [==============================] - 5s 34ms/step - loss: 0.4170 - acc: 0.8588 - val_loss: 0.3472 - val_acc: 0.8564\n",
            "Epoch 3/50\n",
            "132/132 [==============================] - 5s 34ms/step - loss: 0.3242 - acc: 0.8798 - val_loss: 0.2843 - val_acc: 0.8564\n",
            "Epoch 4/50\n",
            "132/132 [==============================] - 5s 35ms/step - loss: 0.2813 - acc: 0.9005 - val_loss: 0.2501 - val_acc: 0.9146\n",
            "Epoch 5/50\n",
            "132/132 [==============================] - 5s 34ms/step - loss: 0.2513 - acc: 0.9250 - val_loss: 0.2230 - val_acc: 0.9729\n",
            "Epoch 6/50\n",
            "132/132 [==============================] - 4s 34ms/step - loss: 0.2295 - acc: 0.9379 - val_loss: 0.2015 - val_acc: 0.9796\n",
            "Epoch 7/50\n",
            "132/132 [==============================] - 4s 34ms/step - loss: 0.2084 - acc: 0.9548 - val_loss: 0.1907 - val_acc: 0.9775\n",
            "Epoch 8/50\n",
            "132/132 [==============================] - 5s 34ms/step - loss: 0.1908 - acc: 0.9614 - val_loss: 0.1692 - val_acc: 0.9814\n",
            "Epoch 9/50\n",
            "132/132 [==============================] - 5s 34ms/step - loss: 0.1792 - acc: 0.9693 - val_loss: 0.1568 - val_acc: 0.9839\n",
            "Epoch 10/50\n",
            "132/132 [==============================] - 5s 35ms/step - loss: 0.1620 - acc: 0.9767 - val_loss: 0.1405 - val_acc: 0.9882\n",
            "Epoch 11/50\n",
            "132/132 [==============================] - 5s 34ms/step - loss: 0.1513 - acc: 0.9783 - val_loss: 0.1380 - val_acc: 0.9821\n",
            "Epoch 12/50\n",
            "132/132 [==============================] - 4s 34ms/step - loss: 0.1368 - acc: 0.9807 - val_loss: 0.1204 - val_acc: 0.9868\n",
            "Epoch 13/50\n",
            "132/132 [==============================] - 4s 34ms/step - loss: 0.1289 - acc: 0.9843 - val_loss: 0.1112 - val_acc: 0.9857\n",
            "Epoch 14/50\n",
            "132/132 [==============================] - 4s 34ms/step - loss: 0.1206 - acc: 0.9840 - val_loss: 0.1036 - val_acc: 0.9886\n",
            "Epoch 15/50\n",
            "132/132 [==============================] - 4s 33ms/step - loss: 0.1128 - acc: 0.9886 - val_loss: 0.0973 - val_acc: 0.9864\n",
            "Epoch 16/50\n",
            "132/132 [==============================] - 4s 33ms/step - loss: 0.1066 - acc: 0.9876 - val_loss: 0.0925 - val_acc: 0.9868\n",
            "Epoch 17/50\n",
            "132/132 [==============================] - 4s 34ms/step - loss: 0.0987 - acc: 0.9893 - val_loss: 0.0892 - val_acc: 0.9868\n",
            "Epoch 18/50\n",
            "132/132 [==============================] - 4s 33ms/step - loss: 0.0968 - acc: 0.9876 - val_loss: 0.1155 - val_acc: 0.9782\n",
            "Epoch 19/50\n",
            "132/132 [==============================] - 4s 33ms/step - loss: 0.0922 - acc: 0.9881 - val_loss: 0.0868 - val_acc: 0.9864\n",
            "Epoch 20/50\n",
            "132/132 [==============================] - 4s 33ms/step - loss: 0.0840 - acc: 0.9910 - val_loss: 0.0764 - val_acc: 0.9854\n",
            "Epoch 21/50\n",
            "132/132 [==============================] - 4s 33ms/step - loss: 0.0786 - acc: 0.9919 - val_loss: 0.0754 - val_acc: 0.9854\n",
            "Epoch 22/50\n",
            "132/132 [==============================] - 4s 33ms/step - loss: 0.0765 - acc: 0.9914 - val_loss: 0.0731 - val_acc: 0.9861\n",
            "Epoch 23/50\n",
            "132/132 [==============================] - 5s 34ms/step - loss: 0.0701 - acc: 0.9924 - val_loss: 0.0721 - val_acc: 0.9846\n",
            "Epoch 24/50\n",
            "132/132 [==============================] - 4s 33ms/step - loss: 0.0721 - acc: 0.9917 - val_loss: 0.0802 - val_acc: 0.9764\n",
            "Epoch 25/50\n",
            "132/132 [==============================] - 4s 33ms/step - loss: 0.0649 - acc: 0.9943 - val_loss: 0.0724 - val_acc: 0.9864\n",
            "Epoch 26/50\n",
            "132/132 [==============================] - 4s 33ms/step - loss: 0.0660 - acc: 0.9919 - val_loss: 0.0629 - val_acc: 0.9868\n",
            "Epoch 27/50\n",
            "132/132 [==============================] - 5s 35ms/step - loss: 0.0604 - acc: 0.9940 - val_loss: 0.0634 - val_acc: 0.9854\n",
            "Epoch 28/50\n",
            "132/132 [==============================] - 5s 35ms/step - loss: 0.0587 - acc: 0.9945 - val_loss: 0.0626 - val_acc: 0.9864\n",
            "Epoch 29/50\n",
            "132/132 [==============================] - 4s 33ms/step - loss: 0.0550 - acc: 0.9955 - val_loss: 0.0652 - val_acc: 0.9861\n",
            "Epoch 30/50\n",
            "132/132 [==============================] - 4s 33ms/step - loss: 0.0571 - acc: 0.9931 - val_loss: 0.0643 - val_acc: 0.9846\n",
            "Epoch 31/50\n",
            "132/132 [==============================] - 4s 33ms/step - loss: 0.0514 - acc: 0.9960 - val_loss: 0.0688 - val_acc: 0.9879\n",
            "Epoch 32/50\n",
            "132/132 [==============================] - 4s 33ms/step - loss: 0.0539 - acc: 0.9938 - val_loss: 0.0597 - val_acc: 0.9875\n",
            "Epoch 33/50\n",
            "132/132 [==============================] - 4s 33ms/step - loss: 0.0519 - acc: 0.9950 - val_loss: 0.0627 - val_acc: 0.9875\n",
            "Epoch 34/50\n",
            "132/132 [==============================] - 4s 33ms/step - loss: 0.0469 - acc: 0.9955 - val_loss: 0.0635 - val_acc: 0.9868\n",
            "Epoch 35/50\n",
            "132/132 [==============================] - 4s 32ms/step - loss: 0.0512 - acc: 0.9943 - val_loss: 0.0601 - val_acc: 0.9861\n",
            "Epoch 36/50\n",
            "132/132 [==============================] - 4s 33ms/step - loss: 0.0481 - acc: 0.9962 - val_loss: 0.0599 - val_acc: 0.9864\n",
            "Epoch 37/50\n",
            "132/132 [==============================] - 4s 32ms/step - loss: 0.0453 - acc: 0.9948 - val_loss: 0.0599 - val_acc: 0.9879\n",
            "Epoch 38/50\n",
            "132/132 [==============================] - 4s 33ms/step - loss: 0.0392 - acc: 0.9967 - val_loss: 0.0651 - val_acc: 0.9864\n",
            "Epoch 39/50\n",
            "132/132 [==============================] - 4s 32ms/step - loss: 0.0373 - acc: 0.9962 - val_loss: 0.0616 - val_acc: 0.9879\n",
            "Epoch 40/50\n",
            "132/132 [==============================] - 4s 32ms/step - loss: 0.0392 - acc: 0.9957 - val_loss: 0.0590 - val_acc: 0.9879\n",
            "Epoch 41/50\n",
            "132/132 [==============================] - 4s 33ms/step - loss: 0.0352 - acc: 0.9955 - val_loss: 0.0590 - val_acc: 0.9864\n",
            "Epoch 42/50\n",
            "132/132 [==============================] - 4s 32ms/step - loss: 0.0344 - acc: 0.9962 - val_loss: 0.0599 - val_acc: 0.9864\n",
            "Epoch 43/50\n",
            "132/132 [==============================] - 4s 33ms/step - loss: 0.0321 - acc: 0.9971 - val_loss: 0.0655 - val_acc: 0.9829\n",
            "Epoch 44/50\n",
            "132/132 [==============================] - 4s 33ms/step - loss: 0.0295 - acc: 0.9957 - val_loss: 0.0569 - val_acc: 0.9864\n",
            "Epoch 45/50\n",
            "132/132 [==============================] - 4s 32ms/step - loss: 0.0316 - acc: 0.9960 - val_loss: 0.0783 - val_acc: 0.9775\n",
            "Epoch 46/50\n",
            "132/132 [==============================] - 4s 32ms/step - loss: 0.0286 - acc: 0.9967 - val_loss: 0.0582 - val_acc: 0.9871\n",
            "Epoch 47/50\n",
            "132/132 [==============================] - 4s 32ms/step - loss: 0.0287 - acc: 0.9974 - val_loss: 0.0597 - val_acc: 0.9850\n",
            "Epoch 48/50\n",
            "132/132 [==============================] - 4s 32ms/step - loss: 0.0309 - acc: 0.9962 - val_loss: 0.0583 - val_acc: 0.9864\n",
            "Epoch 49/50\n",
            "132/132 [==============================] - 4s 32ms/step - loss: 0.0278 - acc: 0.9971 - val_loss: 0.0596 - val_acc: 0.9886\n",
            "Epoch 50/50\n",
            "132/132 [==============================] - 4s 32ms/step - loss: 0.0304 - acc: 0.9964 - val_loss: 0.0683 - val_acc: 0.9846\n"
          ],
          "name": "stdout"
        },
        {
          "output_type": "execute_result",
          "data": {
            "text/plain": [
              "<tensorflow.python.keras.callbacks.History at 0x7fd0517de828>"
            ]
          },
          "metadata": {
            "tags": []
          },
          "execution_count": 25
        }
      ]
    },
    {
      "cell_type": "code",
      "metadata": {
        "id": "Z-4Bgh2Gvsjd",
        "colab_type": "code",
        "colab": {}
      },
      "source": [
        "# The model weights (that are considered the best) are loaded into the model.\n",
        "model.load_weights(checkpoint_filepath)\n",
        "y_valscore = model.predict(X_val)"
      ],
      "execution_count": 26,
      "outputs": []
    },
    {
      "cell_type": "code",
      "metadata": {
        "id": "QRJyZ2JjCecK",
        "colab_type": "code",
        "colab": {
          "base_uri": "https://localhost:8080/",
          "height": 51
        },
        "outputId": "cf0c6965-8ec0-40ea-ab52-8b550d11fd4c"
      },
      "source": [
        "metrics.confusion_matrix(y_val.reshape(-1,1),(y_valscore > 0.5)*1)"
      ],
      "execution_count": 27,
      "outputs": [
        {
          "output_type": "execute_result",
          "data": {
            "text/plain": [
              "array([[2383,   15],\n",
              "       [  17,  385]])"
            ]
          },
          "metadata": {
            "tags": []
          },
          "execution_count": 27
        }
      ]
    },
    {
      "cell_type": "markdown",
      "metadata": {
        "id": "SIkPEhouaUjk",
        "colab_type": "text"
      },
      "source": [
        "## Test on test set."
      ]
    },
    {
      "cell_type": "code",
      "metadata": {
        "id": "KBHzqQI3-rr3",
        "colab_type": "code",
        "colab": {}
      },
      "source": [
        "X_test= np.zeros((len(test), maxlen, \n",
        "                  len(note_dict)+len(beat_dict)+len(dur_dict)),dtype='float32')\n",
        "\n",
        "for j,l in enumerate(test):\n",
        "    for i, n in enumerate(l):\n",
        "        if i < maxlen:\n",
        "            if n[0] in note_dict:\n",
        "                X_test[j, i, note_index[n[0]]] = 1.\n",
        "            if n[1] in beat_dict:\n",
        "                X_test[j, i, len(note_dict)+beat_index[n[1]]] = 1.\n",
        "            if n[2] in dur_dict:\n",
        "                X_test[j, i, len(note_dict)+len(beat_dict)+dur_index[n[2]]] = 1.\n"
      ],
      "execution_count": 28,
      "outputs": []
    },
    {
      "cell_type": "code",
      "metadata": {
        "id": "9p-NB03q---Z",
        "colab_type": "code",
        "colab": {}
      },
      "source": [
        "y_testscore = model.predict(X_test)"
      ],
      "execution_count": 29,
      "outputs": []
    },
    {
      "cell_type": "code",
      "metadata": {
        "id": "7IKW1adT_Tah",
        "colab_type": "code",
        "colab": {
          "base_uri": "https://localhost:8080/",
          "height": 34
        },
        "outputId": "8cf5f682-90aa-45d1-ac85-0a83700ea3ba"
      },
      "source": [
        "sum((y_testscore > 0.5)*1)"
      ],
      "execution_count": 30,
      "outputs": [
        {
          "output_type": "execute_result",
          "data": {
            "text/plain": [
              "array([1015])"
            ]
          },
          "metadata": {
            "tags": []
          },
          "execution_count": 30
        }
      ]
    },
    {
      "cell_type": "code",
      "metadata": {
        "id": "Sv8gpzGOHGl8",
        "colab_type": "code",
        "colab": {}
      },
      "source": [
        "scores = np.round(y_testscore,decimals=2).flatten()"
      ],
      "execution_count": 31,
      "outputs": []
    },
    {
      "cell_type": "code",
      "metadata": {
        "id": "Tq_XZ2pCH88v",
        "colab_type": "code",
        "colab": {
          "base_uri": "https://localhost:8080/",
          "height": 54
        },
        "outputId": "2e2b88e8-be22-4b64-cf46-74c38474da51"
      },
      "source": [
        "a = glob.glob(\"/content/data-1000/test/*.mid\")\n",
        "a.sort(key= str.lower)\n",
        "filenames = [l.split('/')[-1] for l in a]\n",
        "print(filenames)"
      ],
      "execution_count": 32,
      "outputs": [
        {
          "output_type": "stream",
          "text": [
            "['test-0000.mid', 'test-0001.mid', 'test-0002.mid', 'test-0003.mid', 'test-0004.mid', 'test-0005.mid', 'test-0006.mid', 'test-0007.mid', 'test-0008.mid', 'test-0009.mid', 'test-0010.mid', 'test-0011.mid', 'test-0012.mid', 'test-0013.mid', 'test-0014.mid', 'test-0015.mid', 'test-0016.mid', 'test-0017.mid', 'test-0018.mid', 'test-0019.mid', 'test-0020.mid', 'test-0021.mid', 'test-0022.mid', 'test-0023.mid', 'test-0024.mid', 'test-0025.mid', 'test-0026.mid', 'test-0027.mid', 'test-0028.mid', 'test-0029.mid', 'test-0030.mid', 'test-0031.mid', 'test-0032.mid', 'test-0033.mid', 'test-0034.mid', 'test-0035.mid', 'test-0036.mid', 'test-0037.mid', 'test-0038.mid', 'test-0039.mid', 'test-0040.mid', 'test-0041.mid', 'test-0042.mid', 'test-0043.mid', 'test-0044.mid', 'test-0045.mid', 'test-0046.mid', 'test-0047.mid', 'test-0048.mid', 'test-0049.mid', 'test-0050.mid', 'test-0051.mid', 'test-0052.mid', 'test-0053.mid', 'test-0054.mid', 'test-0055.mid', 'test-0056.mid', 'test-0057.mid', 'test-0058.mid', 'test-0059.mid', 'test-0060.mid', 'test-0061.mid', 'test-0062.mid', 'test-0063.mid', 'test-0064.mid', 'test-0065.mid', 'test-0066.mid', 'test-0067.mid', 'test-0068.mid', 'test-0069.mid', 'test-0070.mid', 'test-0071.mid', 'test-0072.mid', 'test-0073.mid', 'test-0074.mid', 'test-0075.mid', 'test-0076.mid', 'test-0077.mid', 'test-0078.mid', 'test-0079.mid', 'test-0080.mid', 'test-0081.mid', 'test-0082.mid', 'test-0083.mid', 'test-0084.mid', 'test-0085.mid', 'test-0086.mid', 'test-0087.mid', 'test-0088.mid', 'test-0089.mid', 'test-0090.mid', 'test-0091.mid', 'test-0092.mid', 'test-0093.mid', 'test-0094.mid', 'test-0095.mid', 'test-0096.mid', 'test-0097.mid', 'test-0098.mid', 'test-0099.mid', 'test-0100.mid', 'test-0101.mid', 'test-0102.mid', 'test-0103.mid', 'test-0104.mid', 'test-0105.mid', 'test-0106.mid', 'test-0107.mid', 'test-0108.mid', 'test-0109.mid', 'test-0110.mid', 'test-0111.mid', 'test-0112.mid', 'test-0113.mid', 'test-0114.mid', 'test-0115.mid', 'test-0116.mid', 'test-0117.mid', 'test-0118.mid', 'test-0119.mid', 'test-0120.mid', 'test-0121.mid', 'test-0122.mid', 'test-0123.mid', 'test-0124.mid', 'test-0125.mid', 'test-0126.mid', 'test-0127.mid', 'test-0128.mid', 'test-0129.mid', 'test-0130.mid', 'test-0131.mid', 'test-0132.mid', 'test-0133.mid', 'test-0134.mid', 'test-0135.mid', 'test-0136.mid', 'test-0137.mid', 'test-0138.mid', 'test-0139.mid', 'test-0140.mid', 'test-0141.mid', 'test-0142.mid', 'test-0143.mid', 'test-0144.mid', 'test-0145.mid', 'test-0146.mid', 'test-0147.mid', 'test-0148.mid', 'test-0149.mid', 'test-0150.mid', 'test-0151.mid', 'test-0152.mid', 'test-0153.mid', 'test-0154.mid', 'test-0155.mid', 'test-0156.mid', 'test-0157.mid', 'test-0158.mid', 'test-0159.mid', 'test-0160.mid', 'test-0161.mid', 'test-0162.mid', 'test-0163.mid', 'test-0164.mid', 'test-0165.mid', 'test-0166.mid', 'test-0167.mid', 'test-0168.mid', 'test-0169.mid', 'test-0170.mid', 'test-0171.mid', 'test-0172.mid', 'test-0173.mid', 'test-0174.mid', 'test-0175.mid', 'test-0176.mid', 'test-0177.mid', 'test-0178.mid', 'test-0179.mid', 'test-0180.mid', 'test-0181.mid', 'test-0182.mid', 'test-0183.mid', 'test-0184.mid', 'test-0185.mid', 'test-0186.mid', 'test-0187.mid', 'test-0188.mid', 'test-0189.mid', 'test-0190.mid', 'test-0191.mid', 'test-0192.mid', 'test-0193.mid', 'test-0194.mid', 'test-0195.mid', 'test-0196.mid', 'test-0197.mid', 'test-0198.mid', 'test-0199.mid', 'test-0200.mid', 'test-0201.mid', 'test-0202.mid', 'test-0203.mid', 'test-0204.mid', 'test-0205.mid', 'test-0206.mid', 'test-0207.mid', 'test-0208.mid', 'test-0209.mid', 'test-0210.mid', 'test-0211.mid', 'test-0212.mid', 'test-0213.mid', 'test-0214.mid', 'test-0215.mid', 'test-0216.mid', 'test-0217.mid', 'test-0218.mid', 'test-0219.mid', 'test-0220.mid', 'test-0221.mid', 'test-0222.mid', 'test-0223.mid', 'test-0224.mid', 'test-0225.mid', 'test-0226.mid', 'test-0227.mid', 'test-0228.mid', 'test-0229.mid', 'test-0230.mid', 'test-0231.mid', 'test-0232.mid', 'test-0233.mid', 'test-0234.mid', 'test-0235.mid', 'test-0236.mid', 'test-0237.mid', 'test-0238.mid', 'test-0239.mid', 'test-0240.mid', 'test-0241.mid', 'test-0242.mid', 'test-0243.mid', 'test-0244.mid', 'test-0245.mid', 'test-0246.mid', 'test-0247.mid', 'test-0248.mid', 'test-0249.mid', 'test-0250.mid', 'test-0251.mid', 'test-0252.mid', 'test-0253.mid', 'test-0254.mid', 'test-0255.mid', 'test-0256.mid', 'test-0257.mid', 'test-0258.mid', 'test-0259.mid', 'test-0260.mid', 'test-0261.mid', 'test-0262.mid', 'test-0263.mid', 'test-0264.mid', 'test-0265.mid', 'test-0266.mid', 'test-0267.mid', 'test-0268.mid', 'test-0269.mid', 'test-0270.mid', 'test-0271.mid', 'test-0272.mid', 'test-0273.mid', 'test-0274.mid', 'test-0275.mid', 'test-0276.mid', 'test-0277.mid', 'test-0278.mid', 'test-0279.mid', 'test-0280.mid', 'test-0281.mid', 'test-0282.mid', 'test-0283.mid', 'test-0284.mid', 'test-0285.mid', 'test-0286.mid', 'test-0287.mid', 'test-0288.mid', 'test-0289.mid', 'test-0290.mid', 'test-0291.mid', 'test-0292.mid', 'test-0293.mid', 'test-0294.mid', 'test-0295.mid', 'test-0296.mid', 'test-0297.mid', 'test-0298.mid', 'test-0299.mid', 'test-0300.mid', 'test-0301.mid', 'test-0302.mid', 'test-0303.mid', 'test-0304.mid', 'test-0305.mid', 'test-0306.mid', 'test-0307.mid', 'test-0308.mid', 'test-0309.mid', 'test-0310.mid', 'test-0311.mid', 'test-0312.mid', 'test-0313.mid', 'test-0314.mid', 'test-0315.mid', 'test-0316.mid', 'test-0317.mid', 'test-0318.mid', 'test-0319.mid', 'test-0320.mid', 'test-0321.mid', 'test-0322.mid', 'test-0323.mid', 'test-0324.mid', 'test-0325.mid', 'test-0326.mid', 'test-0327.mid', 'test-0328.mid', 'test-0329.mid', 'test-0330.mid', 'test-0331.mid', 'test-0332.mid', 'test-0333.mid', 'test-0334.mid', 'test-0335.mid', 'test-0336.mid', 'test-0337.mid', 'test-0338.mid', 'test-0339.mid', 'test-0340.mid', 'test-0341.mid', 'test-0342.mid', 'test-0343.mid', 'test-0344.mid', 'test-0345.mid', 'test-0346.mid', 'test-0347.mid', 'test-0348.mid', 'test-0349.mid', 'test-0350.mid', 'test-0351.mid', 'test-0352.mid', 'test-0353.mid', 'test-0354.mid', 'test-0355.mid', 'test-0356.mid', 'test-0357.mid', 'test-0358.mid', 'test-0359.mid', 'test-0360.mid', 'test-0361.mid', 'test-0362.mid', 'test-0363.mid', 'test-0364.mid', 'test-0365.mid', 'test-0366.mid', 'test-0367.mid', 'test-0368.mid', 'test-0369.mid', 'test-0370.mid', 'test-0371.mid', 'test-0372.mid', 'test-0373.mid', 'test-0374.mid', 'test-0375.mid', 'test-0376.mid', 'test-0377.mid', 'test-0378.mid', 'test-0379.mid', 'test-0380.mid', 'test-0381.mid', 'test-0382.mid', 'test-0383.mid', 'test-0384.mid', 'test-0385.mid', 'test-0386.mid', 'test-0387.mid', 'test-0388.mid', 'test-0389.mid', 'test-0390.mid', 'test-0391.mid', 'test-0392.mid', 'test-0393.mid', 'test-0394.mid', 'test-0395.mid', 'test-0396.mid', 'test-0397.mid', 'test-0398.mid', 'test-0399.mid', 'test-0400.mid', 'test-0401.mid', 'test-0402.mid', 'test-0403.mid', 'test-0404.mid', 'test-0405.mid', 'test-0406.mid', 'test-0407.mid', 'test-0408.mid', 'test-0409.mid', 'test-0410.mid', 'test-0411.mid', 'test-0412.mid', 'test-0413.mid', 'test-0414.mid', 'test-0415.mid', 'test-0416.mid', 'test-0417.mid', 'test-0418.mid', 'test-0419.mid', 'test-0420.mid', 'test-0421.mid', 'test-0422.mid', 'test-0423.mid', 'test-0424.mid', 'test-0425.mid', 'test-0426.mid', 'test-0427.mid', 'test-0428.mid', 'test-0429.mid', 'test-0430.mid', 'test-0431.mid', 'test-0432.mid', 'test-0433.mid', 'test-0434.mid', 'test-0435.mid', 'test-0436.mid', 'test-0437.mid', 'test-0438.mid', 'test-0439.mid', 'test-0440.mid', 'test-0441.mid', 'test-0442.mid', 'test-0443.mid', 'test-0444.mid', 'test-0445.mid', 'test-0446.mid', 'test-0447.mid', 'test-0448.mid', 'test-0449.mid', 'test-0450.mid', 'test-0451.mid', 'test-0452.mid', 'test-0453.mid', 'test-0454.mid', 'test-0455.mid', 'test-0456.mid', 'test-0457.mid', 'test-0458.mid', 'test-0459.mid', 'test-0460.mid', 'test-0461.mid', 'test-0462.mid', 'test-0463.mid', 'test-0464.mid', 'test-0465.mid', 'test-0466.mid', 'test-0467.mid', 'test-0468.mid', 'test-0469.mid', 'test-0470.mid', 'test-0471.mid', 'test-0472.mid', 'test-0473.mid', 'test-0474.mid', 'test-0475.mid', 'test-0476.mid', 'test-0477.mid', 'test-0478.mid', 'test-0479.mid', 'test-0480.mid', 'test-0481.mid', 'test-0482.mid', 'test-0483.mid', 'test-0484.mid', 'test-0485.mid', 'test-0486.mid', 'test-0487.mid', 'test-0488.mid', 'test-0489.mid', 'test-0490.mid', 'test-0491.mid', 'test-0492.mid', 'test-0493.mid', 'test-0494.mid', 'test-0495.mid', 'test-0496.mid', 'test-0497.mid', 'test-0498.mid', 'test-0499.mid', 'test-0500.mid', 'test-0501.mid', 'test-0502.mid', 'test-0503.mid', 'test-0504.mid', 'test-0505.mid', 'test-0506.mid', 'test-0507.mid', 'test-0508.mid', 'test-0509.mid', 'test-0510.mid', 'test-0511.mid', 'test-0512.mid', 'test-0513.mid', 'test-0514.mid', 'test-0515.mid', 'test-0516.mid', 'test-0517.mid', 'test-0518.mid', 'test-0519.mid', 'test-0520.mid', 'test-0521.mid', 'test-0522.mid', 'test-0523.mid', 'test-0524.mid', 'test-0525.mid', 'test-0526.mid', 'test-0527.mid', 'test-0528.mid', 'test-0529.mid', 'test-0530.mid', 'test-0531.mid', 'test-0532.mid', 'test-0533.mid', 'test-0534.mid', 'test-0535.mid', 'test-0536.mid', 'test-0537.mid', 'test-0538.mid', 'test-0539.mid', 'test-0540.mid', 'test-0541.mid', 'test-0542.mid', 'test-0543.mid', 'test-0544.mid', 'test-0545.mid', 'test-0546.mid', 'test-0547.mid', 'test-0548.mid', 'test-0549.mid', 'test-0550.mid', 'test-0551.mid', 'test-0552.mid', 'test-0553.mid', 'test-0554.mid', 'test-0555.mid', 'test-0556.mid', 'test-0557.mid', 'test-0558.mid', 'test-0559.mid', 'test-0560.mid', 'test-0561.mid', 'test-0562.mid', 'test-0563.mid', 'test-0564.mid', 'test-0565.mid', 'test-0566.mid', 'test-0567.mid', 'test-0568.mid', 'test-0569.mid', 'test-0570.mid', 'test-0571.mid', 'test-0572.mid', 'test-0573.mid', 'test-0574.mid', 'test-0575.mid', 'test-0576.mid', 'test-0577.mid', 'test-0578.mid', 'test-0579.mid', 'test-0580.mid', 'test-0581.mid', 'test-0582.mid', 'test-0583.mid', 'test-0584.mid', 'test-0585.mid', 'test-0586.mid', 'test-0587.mid', 'test-0588.mid', 'test-0589.mid', 'test-0590.mid', 'test-0591.mid', 'test-0592.mid', 'test-0593.mid', 'test-0594.mid', 'test-0595.mid', 'test-0596.mid', 'test-0597.mid', 'test-0598.mid', 'test-0599.mid', 'test-0600.mid', 'test-0601.mid', 'test-0602.mid', 'test-0603.mid', 'test-0604.mid', 'test-0605.mid', 'test-0606.mid', 'test-0607.mid', 'test-0608.mid', 'test-0609.mid', 'test-0610.mid', 'test-0611.mid', 'test-0612.mid', 'test-0613.mid', 'test-0614.mid', 'test-0615.mid', 'test-0616.mid', 'test-0617.mid', 'test-0618.mid', 'test-0619.mid', 'test-0620.mid', 'test-0621.mid', 'test-0622.mid', 'test-0623.mid', 'test-0624.mid', 'test-0625.mid', 'test-0626.mid', 'test-0627.mid', 'test-0628.mid', 'test-0629.mid', 'test-0630.mid', 'test-0631.mid', 'test-0632.mid', 'test-0633.mid', 'test-0634.mid', 'test-0635.mid', 'test-0636.mid', 'test-0637.mid', 'test-0638.mid', 'test-0639.mid', 'test-0640.mid', 'test-0641.mid', 'test-0642.mid', 'test-0643.mid', 'test-0644.mid', 'test-0645.mid', 'test-0646.mid', 'test-0647.mid', 'test-0648.mid', 'test-0649.mid', 'test-0650.mid', 'test-0651.mid', 'test-0652.mid', 'test-0653.mid', 'test-0654.mid', 'test-0655.mid', 'test-0656.mid', 'test-0657.mid', 'test-0658.mid', 'test-0659.mid', 'test-0660.mid', 'test-0661.mid', 'test-0662.mid', 'test-0663.mid', 'test-0664.mid', 'test-0665.mid', 'test-0666.mid', 'test-0667.mid', 'test-0668.mid', 'test-0669.mid', 'test-0670.mid', 'test-0671.mid', 'test-0672.mid', 'test-0673.mid', 'test-0674.mid', 'test-0675.mid', 'test-0676.mid', 'test-0677.mid', 'test-0678.mid', 'test-0679.mid', 'test-0680.mid', 'test-0681.mid', 'test-0682.mid', 'test-0683.mid', 'test-0684.mid', 'test-0685.mid', 'test-0686.mid', 'test-0687.mid', 'test-0688.mid', 'test-0689.mid', 'test-0690.mid', 'test-0691.mid', 'test-0692.mid', 'test-0693.mid', 'test-0694.mid', 'test-0695.mid', 'test-0696.mid', 'test-0697.mid', 'test-0698.mid', 'test-0699.mid', 'test-0700.mid', 'test-0701.mid', 'test-0702.mid', 'test-0703.mid', 'test-0704.mid', 'test-0705.mid', 'test-0706.mid', 'test-0707.mid', 'test-0708.mid', 'test-0709.mid', 'test-0710.mid', 'test-0711.mid', 'test-0712.mid', 'test-0713.mid', 'test-0714.mid', 'test-0715.mid', 'test-0716.mid', 'test-0717.mid', 'test-0718.mid', 'test-0719.mid', 'test-0720.mid', 'test-0721.mid', 'test-0722.mid', 'test-0723.mid', 'test-0724.mid', 'test-0725.mid', 'test-0726.mid', 'test-0727.mid', 'test-0728.mid', 'test-0729.mid', 'test-0730.mid', 'test-0731.mid', 'test-0732.mid', 'test-0733.mid', 'test-0734.mid', 'test-0735.mid', 'test-0736.mid', 'test-0737.mid', 'test-0738.mid', 'test-0739.mid', 'test-0740.mid', 'test-0741.mid', 'test-0742.mid', 'test-0743.mid', 'test-0744.mid', 'test-0745.mid', 'test-0746.mid', 'test-0747.mid', 'test-0748.mid', 'test-0749.mid', 'test-0750.mid', 'test-0751.mid', 'test-0752.mid', 'test-0753.mid', 'test-0754.mid', 'test-0755.mid', 'test-0756.mid', 'test-0757.mid', 'test-0758.mid', 'test-0759.mid', 'test-0760.mid', 'test-0761.mid', 'test-0762.mid', 'test-0763.mid', 'test-0764.mid', 'test-0765.mid', 'test-0766.mid', 'test-0767.mid', 'test-0768.mid', 'test-0769.mid', 'test-0770.mid', 'test-0771.mid', 'test-0772.mid', 'test-0773.mid', 'test-0774.mid', 'test-0775.mid', 'test-0776.mid', 'test-0777.mid', 'test-0778.mid', 'test-0779.mid', 'test-0780.mid', 'test-0781.mid', 'test-0782.mid', 'test-0783.mid', 'test-0784.mid', 'test-0785.mid', 'test-0786.mid', 'test-0787.mid', 'test-0788.mid', 'test-0789.mid', 'test-0790.mid', 'test-0791.mid', 'test-0792.mid', 'test-0793.mid', 'test-0794.mid', 'test-0795.mid', 'test-0796.mid', 'test-0797.mid', 'test-0798.mid', 'test-0799.mid', 'test-0800.mid', 'test-0801.mid', 'test-0802.mid', 'test-0803.mid', 'test-0804.mid', 'test-0805.mid', 'test-0806.mid', 'test-0807.mid', 'test-0808.mid', 'test-0809.mid', 'test-0810.mid', 'test-0811.mid', 'test-0812.mid', 'test-0813.mid', 'test-0814.mid', 'test-0815.mid', 'test-0816.mid', 'test-0817.mid', 'test-0818.mid', 'test-0819.mid', 'test-0820.mid', 'test-0821.mid', 'test-0822.mid', 'test-0823.mid', 'test-0824.mid', 'test-0825.mid', 'test-0826.mid', 'test-0827.mid', 'test-0828.mid', 'test-0829.mid', 'test-0830.mid', 'test-0831.mid', 'test-0832.mid', 'test-0833.mid', 'test-0834.mid', 'test-0835.mid', 'test-0836.mid', 'test-0837.mid', 'test-0838.mid', 'test-0839.mid', 'test-0840.mid', 'test-0841.mid', 'test-0842.mid', 'test-0843.mid', 'test-0844.mid', 'test-0845.mid', 'test-0846.mid', 'test-0847.mid', 'test-0848.mid', 'test-0849.mid', 'test-0850.mid', 'test-0851.mid', 'test-0852.mid', 'test-0853.mid', 'test-0854.mid', 'test-0855.mid', 'test-0856.mid', 'test-0857.mid', 'test-0858.mid', 'test-0859.mid', 'test-0860.mid', 'test-0861.mid', 'test-0862.mid', 'test-0863.mid', 'test-0864.mid', 'test-0865.mid', 'test-0866.mid', 'test-0867.mid', 'test-0868.mid', 'test-0869.mid', 'test-0870.mid', 'test-0871.mid', 'test-0872.mid', 'test-0873.mid', 'test-0874.mid', 'test-0875.mid', 'test-0876.mid', 'test-0877.mid', 'test-0878.mid', 'test-0879.mid', 'test-0880.mid', 'test-0881.mid', 'test-0882.mid', 'test-0883.mid', 'test-0884.mid', 'test-0885.mid', 'test-0886.mid', 'test-0887.mid', 'test-0888.mid', 'test-0889.mid', 'test-0890.mid', 'test-0891.mid', 'test-0892.mid', 'test-0893.mid', 'test-0894.mid', 'test-0895.mid', 'test-0896.mid', 'test-0897.mid', 'test-0898.mid', 'test-0899.mid', 'test-0900.mid', 'test-0901.mid', 'test-0902.mid', 'test-0903.mid', 'test-0904.mid', 'test-0905.mid', 'test-0906.mid', 'test-0907.mid', 'test-0908.mid', 'test-0909.mid', 'test-0910.mid', 'test-0911.mid', 'test-0912.mid', 'test-0913.mid', 'test-0914.mid', 'test-0915.mid', 'test-0916.mid', 'test-0917.mid', 'test-0918.mid', 'test-0919.mid', 'test-0920.mid', 'test-0921.mid', 'test-0922.mid', 'test-0923.mid', 'test-0924.mid', 'test-0925.mid', 'test-0926.mid', 'test-0927.mid', 'test-0928.mid', 'test-0929.mid', 'test-0930.mid', 'test-0931.mid', 'test-0932.mid', 'test-0933.mid', 'test-0934.mid', 'test-0935.mid', 'test-0936.mid', 'test-0937.mid', 'test-0938.mid', 'test-0939.mid', 'test-0940.mid', 'test-0941.mid', 'test-0942.mid', 'test-0943.mid', 'test-0944.mid', 'test-0945.mid', 'test-0946.mid', 'test-0947.mid', 'test-0948.mid', 'test-0949.mid', 'test-0950.mid', 'test-0951.mid', 'test-0952.mid', 'test-0953.mid', 'test-0954.mid', 'test-0955.mid', 'test-0956.mid', 'test-0957.mid', 'test-0958.mid', 'test-0959.mid', 'test-0960.mid', 'test-0961.mid', 'test-0962.mid', 'test-0963.mid', 'test-0964.mid', 'test-0965.mid', 'test-0966.mid', 'test-0967.mid', 'test-0968.mid', 'test-0969.mid', 'test-0970.mid', 'test-0971.mid', 'test-0972.mid', 'test-0973.mid', 'test-0974.mid', 'test-0975.mid', 'test-0976.mid', 'test-0977.mid', 'test-0978.mid', 'test-0979.mid', 'test-0980.mid', 'test-0981.mid', 'test-0982.mid', 'test-0983.mid', 'test-0984.mid', 'test-0985.mid', 'test-0986.mid', 'test-0987.mid', 'test-0988.mid', 'test-0989.mid', 'test-0990.mid', 'test-0991.mid', 'test-0992.mid', 'test-0993.mid', 'test-0994.mid', 'test-0995.mid', 'test-0996.mid', 'test-0997.mid', 'test-0998.mid', 'test-0999.mid', 'test-1000.mid', 'test-1001.mid', 'test-1002.mid', 'test-1003.mid', 'test-1004.mid', 'test-1005.mid', 'test-1006.mid', 'test-1007.mid', 'test-1008.mid', 'test-1009.mid', 'test-1010.mid', 'test-1011.mid', 'test-1012.mid', 'test-1013.mid', 'test-1014.mid', 'test-1015.mid', 'test-1016.mid', 'test-1017.mid', 'test-1018.mid', 'test-1019.mid', 'test-1020.mid', 'test-1021.mid', 'test-1022.mid', 'test-1023.mid', 'test-1024.mid', 'test-1025.mid', 'test-1026.mid', 'test-1027.mid', 'test-1028.mid', 'test-1029.mid', 'test-1030.mid', 'test-1031.mid', 'test-1032.mid', 'test-1033.mid', 'test-1034.mid', 'test-1035.mid', 'test-1036.mid', 'test-1037.mid', 'test-1038.mid', 'test-1039.mid', 'test-1040.mid', 'test-1041.mid', 'test-1042.mid', 'test-1043.mid', 'test-1044.mid', 'test-1045.mid', 'test-1046.mid', 'test-1047.mid', 'test-1048.mid', 'test-1049.mid', 'test-1050.mid', 'test-1051.mid', 'test-1052.mid', 'test-1053.mid', 'test-1054.mid', 'test-1055.mid', 'test-1056.mid', 'test-1057.mid', 'test-1058.mid', 'test-1059.mid', 'test-1060.mid', 'test-1061.mid', 'test-1062.mid', 'test-1063.mid', 'test-1064.mid', 'test-1065.mid', 'test-1066.mid', 'test-1067.mid', 'test-1068.mid', 'test-1069.mid', 'test-1070.mid', 'test-1071.mid', 'test-1072.mid', 'test-1073.mid', 'test-1074.mid', 'test-1075.mid', 'test-1076.mid', 'test-1077.mid', 'test-1078.mid', 'test-1079.mid', 'test-1080.mid', 'test-1081.mid', 'test-1082.mid', 'test-1083.mid', 'test-1084.mid', 'test-1085.mid', 'test-1086.mid', 'test-1087.mid', 'test-1088.mid', 'test-1089.mid', 'test-1090.mid', 'test-1091.mid', 'test-1092.mid', 'test-1093.mid', 'test-1094.mid', 'test-1095.mid', 'test-1096.mid', 'test-1097.mid', 'test-1098.mid', 'test-1099.mid', 'test-1100.mid', 'test-1101.mid', 'test-1102.mid', 'test-1103.mid', 'test-1104.mid', 'test-1105.mid', 'test-1106.mid', 'test-1107.mid', 'test-1108.mid', 'test-1109.mid', 'test-1110.mid', 'test-1111.mid', 'test-1112.mid', 'test-1113.mid', 'test-1114.mid', 'test-1115.mid', 'test-1116.mid', 'test-1117.mid', 'test-1118.mid', 'test-1119.mid', 'test-1120.mid', 'test-1121.mid', 'test-1122.mid', 'test-1123.mid', 'test-1124.mid', 'test-1125.mid', 'test-1126.mid', 'test-1127.mid', 'test-1128.mid', 'test-1129.mid', 'test-1130.mid', 'test-1131.mid', 'test-1132.mid', 'test-1133.mid', 'test-1134.mid', 'test-1135.mid', 'test-1136.mid', 'test-1137.mid', 'test-1138.mid', 'test-1139.mid', 'test-1140.mid', 'test-1141.mid', 'test-1142.mid', 'test-1143.mid', 'test-1144.mid', 'test-1145.mid', 'test-1146.mid', 'test-1147.mid', 'test-1148.mid', 'test-1149.mid', 'test-1150.mid', 'test-1151.mid', 'test-1152.mid', 'test-1153.mid', 'test-1154.mid', 'test-1155.mid', 'test-1156.mid', 'test-1157.mid', 'test-1158.mid', 'test-1159.mid', 'test-1160.mid', 'test-1161.mid', 'test-1162.mid', 'test-1163.mid', 'test-1164.mid', 'test-1165.mid', 'test-1166.mid', 'test-1167.mid', 'test-1168.mid', 'test-1169.mid', 'test-1170.mid', 'test-1171.mid', 'test-1172.mid', 'test-1173.mid', 'test-1174.mid', 'test-1175.mid', 'test-1176.mid', 'test-1177.mid', 'test-1178.mid', 'test-1179.mid', 'test-1180.mid', 'test-1181.mid', 'test-1182.mid', 'test-1183.mid', 'test-1184.mid', 'test-1185.mid', 'test-1186.mid', 'test-1187.mid', 'test-1188.mid', 'test-1189.mid', 'test-1190.mid', 'test-1191.mid', 'test-1192.mid', 'test-1193.mid', 'test-1194.mid', 'test-1195.mid', 'test-1196.mid', 'test-1197.mid', 'test-1198.mid', 'test-1199.mid', 'test-1200.mid', 'test-1201.mid', 'test-1202.mid', 'test-1203.mid', 'test-1204.mid', 'test-1205.mid', 'test-1206.mid', 'test-1207.mid', 'test-1208.mid', 'test-1209.mid', 'test-1210.mid', 'test-1211.mid', 'test-1212.mid', 'test-1213.mid', 'test-1214.mid', 'test-1215.mid', 'test-1216.mid', 'test-1217.mid', 'test-1218.mid', 'test-1219.mid', 'test-1220.mid', 'test-1221.mid', 'test-1222.mid', 'test-1223.mid', 'test-1224.mid', 'test-1225.mid', 'test-1226.mid', 'test-1227.mid', 'test-1228.mid', 'test-1229.mid', 'test-1230.mid', 'test-1231.mid', 'test-1232.mid', 'test-1233.mid', 'test-1234.mid', 'test-1235.mid', 'test-1236.mid', 'test-1237.mid', 'test-1238.mid', 'test-1239.mid', 'test-1240.mid', 'test-1241.mid', 'test-1242.mid', 'test-1243.mid', 'test-1244.mid', 'test-1245.mid', 'test-1246.mid', 'test-1247.mid', 'test-1248.mid', 'test-1249.mid', 'test-1250.mid', 'test-1251.mid', 'test-1252.mid', 'test-1253.mid', 'test-1254.mid', 'test-1255.mid', 'test-1256.mid', 'test-1257.mid', 'test-1258.mid', 'test-1259.mid', 'test-1260.mid', 'test-1261.mid', 'test-1262.mid', 'test-1263.mid', 'test-1264.mid', 'test-1265.mid', 'test-1266.mid', 'test-1267.mid', 'test-1268.mid', 'test-1269.mid', 'test-1270.mid', 'test-1271.mid', 'test-1272.mid', 'test-1273.mid', 'test-1274.mid', 'test-1275.mid', 'test-1276.mid', 'test-1277.mid', 'test-1278.mid', 'test-1279.mid', 'test-1280.mid', 'test-1281.mid', 'test-1282.mid', 'test-1283.mid', 'test-1284.mid', 'test-1285.mid', 'test-1286.mid', 'test-1287.mid', 'test-1288.mid', 'test-1289.mid', 'test-1290.mid', 'test-1291.mid', 'test-1292.mid', 'test-1293.mid', 'test-1294.mid', 'test-1295.mid', 'test-1296.mid', 'test-1297.mid', 'test-1298.mid', 'test-1299.mid', 'test-1300.mid', 'test-1301.mid', 'test-1302.mid', 'test-1303.mid', 'test-1304.mid', 'test-1305.mid', 'test-1306.mid', 'test-1307.mid', 'test-1308.mid', 'test-1309.mid', 'test-1310.mid', 'test-1311.mid', 'test-1312.mid', 'test-1313.mid', 'test-1314.mid', 'test-1315.mid', 'test-1316.mid', 'test-1317.mid', 'test-1318.mid', 'test-1319.mid', 'test-1320.mid', 'test-1321.mid', 'test-1322.mid', 'test-1323.mid', 'test-1324.mid', 'test-1325.mid', 'test-1326.mid', 'test-1327.mid', 'test-1328.mid', 'test-1329.mid', 'test-1330.mid', 'test-1331.mid', 'test-1332.mid', 'test-1333.mid', 'test-1334.mid', 'test-1335.mid', 'test-1336.mid', 'test-1337.mid', 'test-1338.mid', 'test-1339.mid', 'test-1340.mid', 'test-1341.mid', 'test-1342.mid', 'test-1343.mid', 'test-1344.mid', 'test-1345.mid', 'test-1346.mid', 'test-1347.mid', 'test-1348.mid', 'test-1349.mid', 'test-1350.mid', 'test-1351.mid', 'test-1352.mid', 'test-1353.mid', 'test-1354.mid', 'test-1355.mid', 'test-1356.mid', 'test-1357.mid', 'test-1358.mid', 'test-1359.mid', 'test-1360.mid', 'test-1361.mid', 'test-1362.mid', 'test-1363.mid', 'test-1364.mid', 'test-1365.mid', 'test-1366.mid', 'test-1367.mid', 'test-1368.mid', 'test-1369.mid', 'test-1370.mid', 'test-1371.mid', 'test-1372.mid', 'test-1373.mid', 'test-1374.mid', 'test-1375.mid', 'test-1376.mid', 'test-1377.mid', 'test-1378.mid', 'test-1379.mid', 'test-1380.mid', 'test-1381.mid', 'test-1382.mid', 'test-1383.mid', 'test-1384.mid', 'test-1385.mid', 'test-1386.mid', 'test-1387.mid', 'test-1388.mid', 'test-1389.mid', 'test-1390.mid', 'test-1391.mid', 'test-1392.mid', 'test-1393.mid', 'test-1394.mid', 'test-1395.mid', 'test-1396.mid', 'test-1397.mid', 'test-1398.mid', 'test-1399.mid', 'test-1400.mid', 'test-1401.mid', 'test-1402.mid', 'test-1403.mid', 'test-1404.mid', 'test-1405.mid', 'test-1406.mid', 'test-1407.mid', 'test-1408.mid', 'test-1409.mid', 'test-1410.mid', 'test-1411.mid', 'test-1412.mid', 'test-1413.mid', 'test-1414.mid', 'test-1415.mid', 'test-1416.mid', 'test-1417.mid', 'test-1418.mid', 'test-1419.mid', 'test-1420.mid', 'test-1421.mid', 'test-1422.mid', 'test-1423.mid', 'test-1424.mid', 'test-1425.mid', 'test-1426.mid', 'test-1427.mid', 'test-1428.mid', 'test-1429.mid', 'test-1430.mid', 'test-1431.mid', 'test-1432.mid', 'test-1433.mid', 'test-1434.mid', 'test-1435.mid', 'test-1436.mid', 'test-1437.mid', 'test-1438.mid', 'test-1439.mid', 'test-1440.mid', 'test-1441.mid', 'test-1442.mid', 'test-1443.mid', 'test-1444.mid', 'test-1445.mid', 'test-1446.mid', 'test-1447.mid', 'test-1448.mid', 'test-1449.mid', 'test-1450.mid', 'test-1451.mid', 'test-1452.mid', 'test-1453.mid', 'test-1454.mid', 'test-1455.mid', 'test-1456.mid', 'test-1457.mid', 'test-1458.mid', 'test-1459.mid', 'test-1460.mid', 'test-1461.mid', 'test-1462.mid', 'test-1463.mid', 'test-1464.mid', 'test-1465.mid', 'test-1466.mid', 'test-1467.mid', 'test-1468.mid', 'test-1469.mid', 'test-1470.mid', 'test-1471.mid', 'test-1472.mid', 'test-1473.mid', 'test-1474.mid', 'test-1475.mid', 'test-1476.mid', 'test-1477.mid', 'test-1478.mid', 'test-1479.mid', 'test-1480.mid', 'test-1481.mid', 'test-1482.mid', 'test-1483.mid', 'test-1484.mid', 'test-1485.mid', 'test-1486.mid', 'test-1487.mid', 'test-1488.mid', 'test-1489.mid', 'test-1490.mid', 'test-1491.mid', 'test-1492.mid', 'test-1493.mid', 'test-1494.mid', 'test-1495.mid', 'test-1496.mid', 'test-1497.mid', 'test-1498.mid', 'test-1499.mid', 'test-1500.mid', 'test-1501.mid', 'test-1502.mid', 'test-1503.mid', 'test-1504.mid', 'test-1505.mid', 'test-1506.mid', 'test-1507.mid', 'test-1508.mid', 'test-1509.mid', 'test-1510.mid', 'test-1511.mid', 'test-1512.mid', 'test-1513.mid', 'test-1514.mid', 'test-1515.mid', 'test-1516.mid', 'test-1517.mid', 'test-1518.mid', 'test-1519.mid', 'test-1520.mid', 'test-1521.mid', 'test-1522.mid', 'test-1523.mid', 'test-1524.mid', 'test-1525.mid', 'test-1526.mid', 'test-1527.mid', 'test-1528.mid', 'test-1529.mid', 'test-1530.mid', 'test-1531.mid', 'test-1532.mid', 'test-1533.mid', 'test-1534.mid', 'test-1535.mid', 'test-1536.mid', 'test-1537.mid', 'test-1538.mid', 'test-1539.mid', 'test-1540.mid', 'test-1541.mid', 'test-1542.mid', 'test-1543.mid', 'test-1544.mid', 'test-1545.mid', 'test-1546.mid', 'test-1547.mid', 'test-1548.mid', 'test-1549.mid', 'test-1550.mid', 'test-1551.mid', 'test-1552.mid', 'test-1553.mid', 'test-1554.mid', 'test-1555.mid', 'test-1556.mid', 'test-1557.mid', 'test-1558.mid', 'test-1559.mid', 'test-1560.mid', 'test-1561.mid', 'test-1562.mid', 'test-1563.mid', 'test-1564.mid', 'test-1565.mid', 'test-1566.mid', 'test-1567.mid', 'test-1568.mid', 'test-1569.mid', 'test-1570.mid', 'test-1571.mid', 'test-1572.mid', 'test-1573.mid', 'test-1574.mid', 'test-1575.mid', 'test-1576.mid', 'test-1577.mid', 'test-1578.mid', 'test-1579.mid', 'test-1580.mid', 'test-1581.mid', 'test-1582.mid', 'test-1583.mid', 'test-1584.mid', 'test-1585.mid', 'test-1586.mid', 'test-1587.mid', 'test-1588.mid', 'test-1589.mid', 'test-1590.mid', 'test-1591.mid', 'test-1592.mid', 'test-1593.mid', 'test-1594.mid', 'test-1595.mid', 'test-1596.mid', 'test-1597.mid', 'test-1598.mid', 'test-1599.mid', 'test-1600.mid', 'test-1601.mid', 'test-1602.mid', 'test-1603.mid', 'test-1604.mid', 'test-1605.mid', 'test-1606.mid', 'test-1607.mid', 'test-1608.mid', 'test-1609.mid', 'test-1610.mid', 'test-1611.mid', 'test-1612.mid', 'test-1613.mid', 'test-1614.mid', 'test-1615.mid', 'test-1616.mid', 'test-1617.mid', 'test-1618.mid', 'test-1619.mid', 'test-1620.mid', 'test-1621.mid', 'test-1622.mid', 'test-1623.mid', 'test-1624.mid', 'test-1625.mid', 'test-1626.mid', 'test-1627.mid', 'test-1628.mid', 'test-1629.mid', 'test-1630.mid', 'test-1631.mid', 'test-1632.mid', 'test-1633.mid', 'test-1634.mid', 'test-1635.mid', 'test-1636.mid', 'test-1637.mid', 'test-1638.mid', 'test-1639.mid', 'test-1640.mid', 'test-1641.mid', 'test-1642.mid', 'test-1643.mid', 'test-1644.mid', 'test-1645.mid', 'test-1646.mid', 'test-1647.mid', 'test-1648.mid', 'test-1649.mid', 'test-1650.mid', 'test-1651.mid', 'test-1652.mid', 'test-1653.mid', 'test-1654.mid', 'test-1655.mid', 'test-1656.mid', 'test-1657.mid', 'test-1658.mid', 'test-1659.mid', 'test-1660.mid', 'test-1661.mid', 'test-1662.mid', 'test-1663.mid', 'test-1664.mid', 'test-1665.mid', 'test-1666.mid', 'test-1667.mid', 'test-1668.mid', 'test-1669.mid', 'test-1670.mid', 'test-1671.mid', 'test-1672.mid', 'test-1673.mid', 'test-1674.mid', 'test-1675.mid', 'test-1676.mid', 'test-1677.mid', 'test-1678.mid', 'test-1679.mid', 'test-1680.mid', 'test-1681.mid', 'test-1682.mid', 'test-1683.mid', 'test-1684.mid', 'test-1685.mid', 'test-1686.mid', 'test-1687.mid', 'test-1688.mid', 'test-1689.mid', 'test-1690.mid', 'test-1691.mid', 'test-1692.mid', 'test-1693.mid', 'test-1694.mid', 'test-1695.mid', 'test-1696.mid', 'test-1697.mid', 'test-1698.mid', 'test-1699.mid', 'test-1700.mid', 'test-1701.mid', 'test-1702.mid', 'test-1703.mid', 'test-1704.mid', 'test-1705.mid', 'test-1706.mid', 'test-1707.mid', 'test-1708.mid', 'test-1709.mid', 'test-1710.mid', 'test-1711.mid', 'test-1712.mid', 'test-1713.mid', 'test-1714.mid', 'test-1715.mid', 'test-1716.mid', 'test-1717.mid', 'test-1718.mid', 'test-1719.mid', 'test-1720.mid', 'test-1721.mid', 'test-1722.mid', 'test-1723.mid', 'test-1724.mid', 'test-1725.mid', 'test-1726.mid', 'test-1727.mid', 'test-1728.mid', 'test-1729.mid', 'test-1730.mid', 'test-1731.mid', 'test-1732.mid', 'test-1733.mid', 'test-1734.mid', 'test-1735.mid', 'test-1736.mid', 'test-1737.mid', 'test-1738.mid', 'test-1739.mid', 'test-1740.mid', 'test-1741.mid', 'test-1742.mid', 'test-1743.mid', 'test-1744.mid', 'test-1745.mid', 'test-1746.mid', 'test-1747.mid', 'test-1748.mid', 'test-1749.mid', 'test-1750.mid', 'test-1751.mid', 'test-1752.mid', 'test-1753.mid', 'test-1754.mid', 'test-1755.mid', 'test-1756.mid', 'test-1757.mid', 'test-1758.mid', 'test-1759.mid', 'test-1760.mid', 'test-1761.mid', 'test-1762.mid', 'test-1763.mid', 'test-1764.mid', 'test-1765.mid', 'test-1766.mid', 'test-1767.mid', 'test-1768.mid', 'test-1769.mid', 'test-1770.mid', 'test-1771.mid', 'test-1772.mid', 'test-1773.mid', 'test-1774.mid', 'test-1775.mid', 'test-1776.mid', 'test-1777.mid', 'test-1778.mid', 'test-1779.mid', 'test-1780.mid', 'test-1781.mid', 'test-1782.mid', 'test-1783.mid', 'test-1784.mid', 'test-1785.mid', 'test-1786.mid', 'test-1787.mid', 'test-1788.mid', 'test-1789.mid', 'test-1790.mid', 'test-1791.mid', 'test-1792.mid', 'test-1793.mid', 'test-1794.mid', 'test-1795.mid', 'test-1796.mid', 'test-1797.mid', 'test-1798.mid', 'test-1799.mid', 'test-1800.mid', 'test-1801.mid', 'test-1802.mid', 'test-1803.mid', 'test-1804.mid', 'test-1805.mid', 'test-1806.mid', 'test-1807.mid', 'test-1808.mid', 'test-1809.mid', 'test-1810.mid', 'test-1811.mid', 'test-1812.mid', 'test-1813.mid', 'test-1814.mid', 'test-1815.mid', 'test-1816.mid', 'test-1817.mid', 'test-1818.mid', 'test-1819.mid', 'test-1820.mid', 'test-1821.mid', 'test-1822.mid', 'test-1823.mid', 'test-1824.mid', 'test-1825.mid', 'test-1826.mid', 'test-1827.mid', 'test-1828.mid', 'test-1829.mid', 'test-1830.mid', 'test-1831.mid', 'test-1832.mid', 'test-1833.mid', 'test-1834.mid', 'test-1835.mid', 'test-1836.mid', 'test-1837.mid', 'test-1838.mid', 'test-1839.mid', 'test-1840.mid', 'test-1841.mid', 'test-1842.mid', 'test-1843.mid', 'test-1844.mid', 'test-1845.mid', 'test-1846.mid', 'test-1847.mid', 'test-1848.mid', 'test-1849.mid', 'test-1850.mid', 'test-1851.mid', 'test-1852.mid', 'test-1853.mid', 'test-1854.mid', 'test-1855.mid', 'test-1856.mid', 'test-1857.mid', 'test-1858.mid', 'test-1859.mid', 'test-1860.mid', 'test-1861.mid', 'test-1862.mid', 'test-1863.mid', 'test-1864.mid', 'test-1865.mid', 'test-1866.mid', 'test-1867.mid', 'test-1868.mid', 'test-1869.mid', 'test-1870.mid', 'test-1871.mid', 'test-1872.mid', 'test-1873.mid', 'test-1874.mid', 'test-1875.mid', 'test-1876.mid', 'test-1877.mid', 'test-1878.mid', 'test-1879.mid', 'test-1880.mid', 'test-1881.mid', 'test-1882.mid', 'test-1883.mid', 'test-1884.mid', 'test-1885.mid', 'test-1886.mid', 'test-1887.mid', 'test-1888.mid', 'test-1889.mid', 'test-1890.mid', 'test-1891.mid', 'test-1892.mid', 'test-1893.mid', 'test-1894.mid', 'test-1895.mid', 'test-1896.mid', 'test-1897.mid', 'test-1898.mid', 'test-1899.mid', 'test-1900.mid', 'test-1901.mid', 'test-1902.mid', 'test-1903.mid', 'test-1904.mid', 'test-1905.mid', 'test-1906.mid', 'test-1907.mid', 'test-1908.mid', 'test-1909.mid', 'test-1910.mid', 'test-1911.mid', 'test-1912.mid', 'test-1913.mid', 'test-1914.mid', 'test-1915.mid', 'test-1916.mid', 'test-1917.mid', 'test-1918.mid', 'test-1919.mid', 'test-1920.mid', 'test-1921.mid', 'test-1922.mid', 'test-1923.mid', 'test-1924.mid', 'test-1925.mid', 'test-1926.mid', 'test-1927.mid', 'test-1928.mid', 'test-1929.mid', 'test-1930.mid', 'test-1931.mid', 'test-1932.mid', 'test-1933.mid', 'test-1934.mid', 'test-1935.mid', 'test-1936.mid', 'test-1937.mid', 'test-1938.mid', 'test-1939.mid', 'test-1940.mid', 'test-1941.mid', 'test-1942.mid', 'test-1943.mid', 'test-1944.mid', 'test-1945.mid', 'test-1946.mid', 'test-1947.mid', 'test-1948.mid', 'test-1949.mid', 'test-1950.mid', 'test-1951.mid', 'test-1952.mid', 'test-1953.mid', 'test-1954.mid', 'test-1955.mid', 'test-1956.mid', 'test-1957.mid', 'test-1958.mid', 'test-1959.mid', 'test-1960.mid', 'test-1961.mid', 'test-1962.mid', 'test-1963.mid', 'test-1964.mid', 'test-1965.mid', 'test-1966.mid', 'test-1967.mid', 'test-1968.mid', 'test-1969.mid', 'test-1970.mid', 'test-1971.mid', 'test-1972.mid', 'test-1973.mid', 'test-1974.mid', 'test-1975.mid', 'test-1976.mid', 'test-1977.mid', 'test-1978.mid', 'test-1979.mid', 'test-1980.mid', 'test-1981.mid', 'test-1982.mid', 'test-1983.mid', 'test-1984.mid', 'test-1985.mid', 'test-1986.mid', 'test-1987.mid', 'test-1988.mid', 'test-1989.mid', 'test-1990.mid', 'test-1991.mid', 'test-1992.mid', 'test-1993.mid', 'test-1994.mid', 'test-1995.mid', 'test-1996.mid', 'test-1997.mid', 'test-1998.mid', 'test-1999.mid', 'test-2000.mid', 'test-2001.mid', 'test-2002.mid', 'test-2003.mid', 'test-2004.mid', 'test-2005.mid', 'test-2006.mid', 'test-2007.mid', 'test-2008.mid', 'test-2009.mid', 'test-2010.mid', 'test-2011.mid', 'test-2012.mid', 'test-2013.mid', 'test-2014.mid', 'test-2015.mid', 'test-2016.mid', 'test-2017.mid', 'test-2018.mid', 'test-2019.mid', 'test-2020.mid', 'test-2021.mid', 'test-2022.mid', 'test-2023.mid', 'test-2024.mid', 'test-2025.mid', 'test-2026.mid', 'test-2027.mid', 'test-2028.mid', 'test-2029.mid', 'test-2030.mid', 'test-2031.mid', 'test-2032.mid', 'test-2033.mid', 'test-2034.mid', 'test-2035.mid', 'test-2036.mid', 'test-2037.mid', 'test-2038.mid', 'test-2039.mid', 'test-2040.mid', 'test-2041.mid', 'test-2042.mid', 'test-2043.mid', 'test-2044.mid', 'test-2045.mid', 'test-2046.mid', 'test-2047.mid', 'test-2048.mid', 'test-2049.mid', 'test-2050.mid', 'test-2051.mid', 'test-2052.mid', 'test-2053.mid', 'test-2054.mid', 'test-2055.mid', 'test-2056.mid', 'test-2057.mid', 'test-2058.mid', 'test-2059.mid', 'test-2060.mid', 'test-2061.mid', 'test-2062.mid', 'test-2063.mid', 'test-2064.mid', 'test-2065.mid', 'test-2066.mid', 'test-2067.mid', 'test-2068.mid', 'test-2069.mid', 'test-2070.mid', 'test-2071.mid', 'test-2072.mid', 'test-2073.mid', 'test-2074.mid', 'test-2075.mid', 'test-2076.mid', 'test-2077.mid', 'test-2078.mid', 'test-2079.mid', 'test-2080.mid', 'test-2081.mid', 'test-2082.mid', 'test-2083.mid', 'test-2084.mid', 'test-2085.mid', 'test-2086.mid', 'test-2087.mid', 'test-2088.mid', 'test-2089.mid', 'test-2090.mid', 'test-2091.mid', 'test-2092.mid', 'test-2093.mid', 'test-2094.mid', 'test-2095.mid', 'test-2096.mid', 'test-2097.mid', 'test-2098.mid', 'test-2099.mid', 'test-2100.mid', 'test-2101.mid', 'test-2102.mid', 'test-2103.mid', 'test-2104.mid', 'test-2105.mid', 'test-2106.mid', 'test-2107.mid', 'test-2108.mid', 'test-2109.mid', 'test-2110.mid', 'test-2111.mid', 'test-2112.mid', 'test-2113.mid', 'test-2114.mid', 'test-2115.mid', 'test-2116.mid', 'test-2117.mid', 'test-2118.mid', 'test-2119.mid', 'test-2120.mid', 'test-2121.mid', 'test-2122.mid', 'test-2123.mid', 'test-2124.mid', 'test-2125.mid', 'test-2126.mid', 'test-2127.mid', 'test-2128.mid', 'test-2129.mid', 'test-2130.mid', 'test-2131.mid', 'test-2132.mid', 'test-2133.mid', 'test-2134.mid', 'test-2135.mid', 'test-2136.mid', 'test-2137.mid', 'test-2138.mid', 'test-2139.mid', 'test-2140.mid', 'test-2141.mid', 'test-2142.mid', 'test-2143.mid', 'test-2144.mid', 'test-2145.mid', 'test-2146.mid', 'test-2147.mid', 'test-2148.mid', 'test-2149.mid', 'test-2150.mid', 'test-2151.mid', 'test-2152.mid', 'test-2153.mid', 'test-2154.mid', 'test-2155.mid', 'test-2156.mid', 'test-2157.mid', 'test-2158.mid', 'test-2159.mid', 'test-2160.mid', 'test-2161.mid', 'test-2162.mid', 'test-2163.mid', 'test-2164.mid', 'test-2165.mid', 'test-2166.mid', 'test-2167.mid', 'test-2168.mid', 'test-2169.mid', 'test-2170.mid', 'test-2171.mid', 'test-2172.mid', 'test-2173.mid', 'test-2174.mid', 'test-2175.mid', 'test-2176.mid', 'test-2177.mid', 'test-2178.mid', 'test-2179.mid', 'test-2180.mid', 'test-2181.mid', 'test-2182.mid', 'test-2183.mid', 'test-2184.mid', 'test-2185.mid', 'test-2186.mid', 'test-2187.mid', 'test-2188.mid', 'test-2189.mid', 'test-2190.mid', 'test-2191.mid', 'test-2192.mid', 'test-2193.mid', 'test-2194.mid', 'test-2195.mid', 'test-2196.mid', 'test-2197.mid', 'test-2198.mid', 'test-2199.mid', 'test-2200.mid', 'test-2201.mid', 'test-2202.mid', 'test-2203.mid', 'test-2204.mid', 'test-2205.mid', 'test-2206.mid', 'test-2207.mid', 'test-2208.mid', 'test-2209.mid', 'test-2210.mid', 'test-2211.mid', 'test-2212.mid', 'test-2213.mid', 'test-2214.mid', 'test-2215.mid', 'test-2216.mid', 'test-2217.mid', 'test-2218.mid', 'test-2219.mid', 'test-2220.mid', 'test-2221.mid', 'test-2222.mid', 'test-2223.mid', 'test-2224.mid', 'test-2225.mid', 'test-2226.mid', 'test-2227.mid', 'test-2228.mid', 'test-2229.mid', 'test-2230.mid', 'test-2231.mid', 'test-2232.mid', 'test-2233.mid', 'test-2234.mid', 'test-2235.mid', 'test-2236.mid', 'test-2237.mid', 'test-2238.mid', 'test-2239.mid', 'test-2240.mid', 'test-2241.mid', 'test-2242.mid', 'test-2243.mid', 'test-2244.mid', 'test-2245.mid', 'test-2246.mid', 'test-2247.mid', 'test-2248.mid', 'test-2249.mid', 'test-2250.mid', 'test-2251.mid', 'test-2252.mid', 'test-2253.mid', 'test-2254.mid', 'test-2255.mid', 'test-2256.mid', 'test-2257.mid', 'test-2258.mid', 'test-2259.mid', 'test-2260.mid', 'test-2261.mid', 'test-2262.mid', 'test-2263.mid', 'test-2264.mid', 'test-2265.mid', 'test-2266.mid', 'test-2267.mid', 'test-2268.mid', 'test-2269.mid', 'test-2270.mid', 'test-2271.mid', 'test-2272.mid', 'test-2273.mid', 'test-2274.mid', 'test-2275.mid', 'test-2276.mid', 'test-2277.mid', 'test-2278.mid', 'test-2279.mid', 'test-2280.mid', 'test-2281.mid', 'test-2282.mid', 'test-2283.mid', 'test-2284.mid', 'test-2285.mid', 'test-2286.mid', 'test-2287.mid', 'test-2288.mid', 'test-2289.mid', 'test-2290.mid', 'test-2291.mid', 'test-2292.mid', 'test-2293.mid', 'test-2294.mid', 'test-2295.mid', 'test-2296.mid', 'test-2297.mid', 'test-2298.mid', 'test-2299.mid', 'test-2300.mid', 'test-2301.mid', 'test-2302.mid', 'test-2303.mid', 'test-2304.mid', 'test-2305.mid', 'test-2306.mid', 'test-2307.mid', 'test-2308.mid', 'test-2309.mid', 'test-2310.mid', 'test-2311.mid', 'test-2312.mid', 'test-2313.mid', 'test-2314.mid', 'test-2315.mid', 'test-2316.mid', 'test-2317.mid', 'test-2318.mid', 'test-2319.mid', 'test-2320.mid', 'test-2321.mid', 'test-2322.mid', 'test-2323.mid', 'test-2324.mid', 'test-2325.mid', 'test-2326.mid', 'test-2327.mid', 'test-2328.mid', 'test-2329.mid', 'test-2330.mid', 'test-2331.mid', 'test-2332.mid', 'test-2333.mid', 'test-2334.mid', 'test-2335.mid', 'test-2336.mid', 'test-2337.mid', 'test-2338.mid', 'test-2339.mid', 'test-2340.mid', 'test-2341.mid', 'test-2342.mid', 'test-2343.mid', 'test-2344.mid', 'test-2345.mid', 'test-2346.mid', 'test-2347.mid', 'test-2348.mid', 'test-2349.mid', 'test-2350.mid', 'test-2351.mid', 'test-2352.mid', 'test-2353.mid', 'test-2354.mid', 'test-2355.mid', 'test-2356.mid', 'test-2357.mid', 'test-2358.mid', 'test-2359.mid', 'test-2360.mid', 'test-2361.mid', 'test-2362.mid', 'test-2363.mid', 'test-2364.mid', 'test-2365.mid', 'test-2366.mid', 'test-2367.mid', 'test-2368.mid', 'test-2369.mid', 'test-2370.mid', 'test-2371.mid', 'test-2372.mid', 'test-2373.mid', 'test-2374.mid', 'test-2375.mid', 'test-2376.mid', 'test-2377.mid', 'test-2378.mid', 'test-2379.mid', 'test-2380.mid', 'test-2381.mid', 'test-2382.mid', 'test-2383.mid', 'test-2384.mid', 'test-2385.mid', 'test-2386.mid', 'test-2387.mid', 'test-2388.mid', 'test-2389.mid', 'test-2390.mid', 'test-2391.mid', 'test-2392.mid', 'test-2393.mid', 'test-2394.mid', 'test-2395.mid', 'test-2396.mid', 'test-2397.mid', 'test-2398.mid', 'test-2399.mid', 'test-2400.mid', 'test-2401.mid', 'test-2402.mid', 'test-2403.mid', 'test-2404.mid', 'test-2405.mid', 'test-2406.mid', 'test-2407.mid', 'test-2408.mid', 'test-2409.mid', 'test-2410.mid', 'test-2411.mid', 'test-2412.mid', 'test-2413.mid', 'test-2414.mid', 'test-2415.mid', 'test-2416.mid', 'test-2417.mid', 'test-2418.mid', 'test-2419.mid', 'test-2420.mid', 'test-2421.mid', 'test-2422.mid', 'test-2423.mid', 'test-2424.mid', 'test-2425.mid', 'test-2426.mid', 'test-2427.mid', 'test-2428.mid', 'test-2429.mid', 'test-2430.mid', 'test-2431.mid', 'test-2432.mid', 'test-2433.mid', 'test-2434.mid', 'test-2435.mid', 'test-2436.mid', 'test-2437.mid', 'test-2438.mid', 'test-2439.mid', 'test-2440.mid', 'test-2441.mid', 'test-2442.mid', 'test-2443.mid', 'test-2444.mid', 'test-2445.mid', 'test-2446.mid', 'test-2447.mid', 'test-2448.mid', 'test-2449.mid', 'test-2450.mid', 'test-2451.mid', 'test-2452.mid', 'test-2453.mid', 'test-2454.mid', 'test-2455.mid', 'test-2456.mid', 'test-2457.mid', 'test-2458.mid', 'test-2459.mid', 'test-2460.mid', 'test-2461.mid', 'test-2462.mid', 'test-2463.mid', 'test-2464.mid', 'test-2465.mid', 'test-2466.mid', 'test-2467.mid', 'test-2468.mid', 'test-2469.mid', 'test-2470.mid', 'test-2471.mid', 'test-2472.mid', 'test-2473.mid', 'test-2474.mid', 'test-2475.mid', 'test-2476.mid', 'test-2477.mid', 'test-2478.mid', 'test-2479.mid', 'test-2480.mid', 'test-2481.mid', 'test-2482.mid', 'test-2483.mid', 'test-2484.mid', 'test-2485.mid', 'test-2486.mid', 'test-2487.mid', 'test-2488.mid', 'test-2489.mid', 'test-2490.mid', 'test-2491.mid', 'test-2492.mid', 'test-2493.mid', 'test-2494.mid', 'test-2495.mid', 'test-2496.mid', 'test-2497.mid', 'test-2498.mid', 'test-2499.mid', 'test-2500.mid', 'test-2501.mid', 'test-2502.mid', 'test-2503.mid', 'test-2504.mid', 'test-2505.mid', 'test-2506.mid', 'test-2507.mid', 'test-2508.mid', 'test-2509.mid', 'test-2510.mid', 'test-2511.mid', 'test-2512.mid', 'test-2513.mid', 'test-2514.mid', 'test-2515.mid', 'test-2516.mid', 'test-2517.mid', 'test-2518.mid', 'test-2519.mid', 'test-2520.mid', 'test-2521.mid', 'test-2522.mid', 'test-2523.mid', 'test-2524.mid', 'test-2525.mid', 'test-2526.mid', 'test-2527.mid', 'test-2528.mid', 'test-2529.mid', 'test-2530.mid', 'test-2531.mid', 'test-2532.mid', 'test-2533.mid', 'test-2534.mid', 'test-2535.mid', 'test-2536.mid', 'test-2537.mid', 'test-2538.mid', 'test-2539.mid', 'test-2540.mid', 'test-2541.mid', 'test-2542.mid', 'test-2543.mid', 'test-2544.mid', 'test-2545.mid', 'test-2546.mid', 'test-2547.mid', 'test-2548.mid', 'test-2549.mid', 'test-2550.mid', 'test-2551.mid', 'test-2552.mid', 'test-2553.mid', 'test-2554.mid', 'test-2555.mid', 'test-2556.mid', 'test-2557.mid', 'test-2558.mid', 'test-2559.mid', 'test-2560.mid', 'test-2561.mid', 'test-2562.mid', 'test-2563.mid', 'test-2564.mid', 'test-2565.mid', 'test-2566.mid', 'test-2567.mid', 'test-2568.mid', 'test-2569.mid', 'test-2570.mid', 'test-2571.mid', 'test-2572.mid', 'test-2573.mid', 'test-2574.mid', 'test-2575.mid', 'test-2576.mid', 'test-2577.mid', 'test-2578.mid', 'test-2579.mid', 'test-2580.mid', 'test-2581.mid', 'test-2582.mid', 'test-2583.mid', 'test-2584.mid', 'test-2585.mid', 'test-2586.mid', 'test-2587.mid', 'test-2588.mid', 'test-2589.mid', 'test-2590.mid', 'test-2591.mid', 'test-2592.mid', 'test-2593.mid', 'test-2594.mid', 'test-2595.mid', 'test-2596.mid', 'test-2597.mid', 'test-2598.mid', 'test-2599.mid', 'test-2600.mid', 'test-2601.mid', 'test-2602.mid', 'test-2603.mid', 'test-2604.mid', 'test-2605.mid', 'test-2606.mid', 'test-2607.mid', 'test-2608.mid', 'test-2609.mid', 'test-2610.mid', 'test-2611.mid', 'test-2612.mid', 'test-2613.mid', 'test-2614.mid', 'test-2615.mid', 'test-2616.mid', 'test-2617.mid', 'test-2618.mid', 'test-2619.mid', 'test-2620.mid', 'test-2621.mid', 'test-2622.mid', 'test-2623.mid', 'test-2624.mid', 'test-2625.mid', 'test-2626.mid', 'test-2627.mid', 'test-2628.mid', 'test-2629.mid', 'test-2630.mid', 'test-2631.mid', 'test-2632.mid', 'test-2633.mid', 'test-2634.mid', 'test-2635.mid', 'test-2636.mid', 'test-2637.mid', 'test-2638.mid', 'test-2639.mid', 'test-2640.mid', 'test-2641.mid', 'test-2642.mid', 'test-2643.mid', 'test-2644.mid', 'test-2645.mid', 'test-2646.mid', 'test-2647.mid', 'test-2648.mid', 'test-2649.mid', 'test-2650.mid', 'test-2651.mid', 'test-2652.mid', 'test-2653.mid', 'test-2654.mid', 'test-2655.mid', 'test-2656.mid', 'test-2657.mid', 'test-2658.mid', 'test-2659.mid', 'test-2660.mid', 'test-2661.mid', 'test-2662.mid', 'test-2663.mid', 'test-2664.mid', 'test-2665.mid', 'test-2666.mid', 'test-2667.mid', 'test-2668.mid', 'test-2669.mid', 'test-2670.mid', 'test-2671.mid', 'test-2672.mid', 'test-2673.mid', 'test-2674.mid', 'test-2675.mid', 'test-2676.mid', 'test-2677.mid', 'test-2678.mid', 'test-2679.mid', 'test-2680.mid', 'test-2681.mid', 'test-2682.mid', 'test-2683.mid', 'test-2684.mid', 'test-2685.mid', 'test-2686.mid', 'test-2687.mid', 'test-2688.mid', 'test-2689.mid', 'test-2690.mid', 'test-2691.mid', 'test-2692.mid', 'test-2693.mid', 'test-2694.mid', 'test-2695.mid', 'test-2696.mid', 'test-2697.mid', 'test-2698.mid', 'test-2699.mid', 'test-2700.mid', 'test-2701.mid', 'test-2702.mid', 'test-2703.mid', 'test-2704.mid', 'test-2705.mid', 'test-2706.mid', 'test-2707.mid', 'test-2708.mid', 'test-2709.mid', 'test-2710.mid', 'test-2711.mid', 'test-2712.mid', 'test-2713.mid', 'test-2714.mid', 'test-2715.mid', 'test-2716.mid', 'test-2717.mid', 'test-2718.mid', 'test-2719.mid', 'test-2720.mid', 'test-2721.mid', 'test-2722.mid', 'test-2723.mid', 'test-2724.mid', 'test-2725.mid', 'test-2726.mid', 'test-2727.mid', 'test-2728.mid', 'test-2729.mid', 'test-2730.mid', 'test-2731.mid', 'test-2732.mid', 'test-2733.mid', 'test-2734.mid', 'test-2735.mid', 'test-2736.mid', 'test-2737.mid', 'test-2738.mid', 'test-2739.mid', 'test-2740.mid', 'test-2741.mid', 'test-2742.mid', 'test-2743.mid', 'test-2744.mid', 'test-2745.mid', 'test-2746.mid', 'test-2747.mid', 'test-2748.mid', 'test-2749.mid', 'test-2750.mid', 'test-2751.mid', 'test-2752.mid', 'test-2753.mid', 'test-2754.mid', 'test-2755.mid', 'test-2756.mid', 'test-2757.mid', 'test-2758.mid', 'test-2759.mid', 'test-2760.mid', 'test-2761.mid', 'test-2762.mid', 'test-2763.mid', 'test-2764.mid', 'test-2765.mid', 'test-2766.mid', 'test-2767.mid', 'test-2768.mid', 'test-2769.mid', 'test-2770.mid', 'test-2771.mid', 'test-2772.mid', 'test-2773.mid', 'test-2774.mid', 'test-2775.mid', 'test-2776.mid', 'test-2777.mid', 'test-2778.mid', 'test-2779.mid', 'test-2780.mid', 'test-2781.mid', 'test-2782.mid', 'test-2783.mid', 'test-2784.mid', 'test-2785.mid', 'test-2786.mid', 'test-2787.mid', 'test-2788.mid', 'test-2789.mid', 'test-2790.mid', 'test-2791.mid', 'test-2792.mid', 'test-2793.mid', 'test-2794.mid', 'test-2795.mid', 'test-2796.mid', 'test-2797.mid', 'test-2798.mid', 'test-2799.mid', 'test-2800.mid', 'test-2801.mid', 'test-2802.mid', 'test-2803.mid', 'test-2804.mid', 'test-2805.mid', 'test-2806.mid', 'test-2807.mid', 'test-2808.mid', 'test-2809.mid', 'test-2810.mid', 'test-2811.mid', 'test-2812.mid', 'test-2813.mid', 'test-2814.mid', 'test-2815.mid', 'test-2816.mid', 'test-2817.mid', 'test-2818.mid', 'test-2819.mid', 'test-2820.mid', 'test-2821.mid', 'test-2822.mid', 'test-2823.mid', 'test-2824.mid', 'test-2825.mid', 'test-2826.mid', 'test-2827.mid', 'test-2828.mid', 'test-2829.mid', 'test-2830.mid', 'test-2831.mid', 'test-2832.mid', 'test-2833.mid', 'test-2834.mid', 'test-2835.mid', 'test-2836.mid', 'test-2837.mid', 'test-2838.mid', 'test-2839.mid', 'test-2840.mid', 'test-2841.mid', 'test-2842.mid', 'test-2843.mid', 'test-2844.mid', 'test-2845.mid', 'test-2846.mid', 'test-2847.mid', 'test-2848.mid', 'test-2849.mid', 'test-2850.mid', 'test-2851.mid', 'test-2852.mid', 'test-2853.mid', 'test-2854.mid', 'test-2855.mid', 'test-2856.mid', 'test-2857.mid', 'test-2858.mid', 'test-2859.mid', 'test-2860.mid', 'test-2861.mid', 'test-2862.mid', 'test-2863.mid', 'test-2864.mid', 'test-2865.mid', 'test-2866.mid', 'test-2867.mid', 'test-2868.mid', 'test-2869.mid', 'test-2870.mid', 'test-2871.mid', 'test-2872.mid', 'test-2873.mid', 'test-2874.mid', 'test-2875.mid', 'test-2876.mid', 'test-2877.mid', 'test-2878.mid', 'test-2879.mid', 'test-2880.mid', 'test-2881.mid', 'test-2882.mid', 'test-2883.mid', 'test-2884.mid', 'test-2885.mid', 'test-2886.mid', 'test-2887.mid', 'test-2888.mid', 'test-2889.mid', 'test-2890.mid', 'test-2891.mid', 'test-2892.mid', 'test-2893.mid', 'test-2894.mid', 'test-2895.mid', 'test-2896.mid', 'test-2897.mid', 'test-2898.mid', 'test-2899.mid', 'test-2900.mid', 'test-2901.mid', 'test-2902.mid', 'test-2903.mid', 'test-2904.mid', 'test-2905.mid', 'test-2906.mid', 'test-2907.mid', 'test-2908.mid', 'test-2909.mid', 'test-2910.mid', 'test-2911.mid', 'test-2912.mid', 'test-2913.mid', 'test-2914.mid', 'test-2915.mid', 'test-2916.mid', 'test-2917.mid', 'test-2918.mid', 'test-2919.mid', 'test-2920.mid', 'test-2921.mid', 'test-2922.mid', 'test-2923.mid', 'test-2924.mid', 'test-2925.mid', 'test-2926.mid', 'test-2927.mid', 'test-2928.mid', 'test-2929.mid', 'test-2930.mid', 'test-2931.mid', 'test-2932.mid', 'test-2933.mid', 'test-2934.mid', 'test-2935.mid', 'test-2936.mid', 'test-2937.mid', 'test-2938.mid', 'test-2939.mid', 'test-2940.mid', 'test-2941.mid', 'test-2942.mid', 'test-2943.mid', 'test-2944.mid', 'test-2945.mid', 'test-2946.mid', 'test-2947.mid', 'test-2948.mid', 'test-2949.mid', 'test-2950.mid', 'test-2951.mid', 'test-2952.mid', 'test-2953.mid', 'test-2954.mid', 'test-2955.mid', 'test-2956.mid', 'test-2957.mid', 'test-2958.mid', 'test-2959.mid', 'test-2960.mid', 'test-2961.mid', 'test-2962.mid', 'test-2963.mid', 'test-2964.mid', 'test-2965.mid', 'test-2966.mid', 'test-2967.mid', 'test-2968.mid', 'test-2969.mid', 'test-2970.mid', 'test-2971.mid', 'test-2972.mid', 'test-2973.mid', 'test-2974.mid', 'test-2975.mid', 'test-2976.mid', 'test-2977.mid', 'test-2978.mid', 'test-2979.mid', 'test-2980.mid', 'test-2981.mid', 'test-2982.mid', 'test-2983.mid', 'test-2984.mid', 'test-2985.mid', 'test-2986.mid', 'test-2987.mid', 'test-2988.mid', 'test-2989.mid', 'test-2990.mid', 'test-2991.mid', 'test-2992.mid', 'test-2993.mid', 'test-2994.mid', 'test-2995.mid', 'test-2996.mid', 'test-2997.mid', 'test-2998.mid', 'test-2999.mid', 'test-3000.mid', 'test-3001.mid', 'test-3002.mid', 'test-3003.mid', 'test-3004.mid', 'test-3005.mid', 'test-3006.mid', 'test-3007.mid', 'test-3008.mid', 'test-3009.mid', 'test-3010.mid', 'test-3011.mid', 'test-3012.mid', 'test-3013.mid', 'test-3014.mid', 'test-3015.mid', 'test-3016.mid', 'test-3017.mid', 'test-3018.mid', 'test-3019.mid', 'test-3020.mid', 'test-3021.mid', 'test-3022.mid', 'test-3023.mid', 'test-3024.mid', 'test-3025.mid', 'test-3026.mid', 'test-3027.mid', 'test-3028.mid', 'test-3029.mid', 'test-3030.mid', 'test-3031.mid', 'test-3032.mid', 'test-3033.mid', 'test-3034.mid', 'test-3035.mid', 'test-3036.mid', 'test-3037.mid', 'test-3038.mid', 'test-3039.mid', 'test-3040.mid', 'test-3041.mid', 'test-3042.mid', 'test-3043.mid', 'test-3044.mid', 'test-3045.mid', 'test-3046.mid', 'test-3047.mid', 'test-3048.mid', 'test-3049.mid', 'test-3050.mid', 'test-3051.mid', 'test-3052.mid', 'test-3053.mid', 'test-3054.mid', 'test-3055.mid', 'test-3056.mid', 'test-3057.mid', 'test-3058.mid', 'test-3059.mid', 'test-3060.mid', 'test-3061.mid', 'test-3062.mid', 'test-3063.mid', 'test-3064.mid', 'test-3065.mid', 'test-3066.mid', 'test-3067.mid', 'test-3068.mid', 'test-3069.mid', 'test-3070.mid', 'test-3071.mid', 'test-3072.mid', 'test-3073.mid', 'test-3074.mid', 'test-3075.mid', 'test-3076.mid', 'test-3077.mid', 'test-3078.mid', 'test-3079.mid', 'test-3080.mid', 'test-3081.mid', 'test-3082.mid', 'test-3083.mid', 'test-3084.mid', 'test-3085.mid', 'test-3086.mid', 'test-3087.mid', 'test-3088.mid', 'test-3089.mid', 'test-3090.mid', 'test-3091.mid', 'test-3092.mid', 'test-3093.mid', 'test-3094.mid', 'test-3095.mid', 'test-3096.mid', 'test-3097.mid', 'test-3098.mid', 'test-3099.mid', 'test-3100.mid', 'test-3101.mid', 'test-3102.mid', 'test-3103.mid', 'test-3104.mid', 'test-3105.mid', 'test-3106.mid', 'test-3107.mid', 'test-3108.mid', 'test-3109.mid', 'test-3110.mid', 'test-3111.mid', 'test-3112.mid', 'test-3113.mid', 'test-3114.mid', 'test-3115.mid', 'test-3116.mid', 'test-3117.mid', 'test-3118.mid', 'test-3119.mid', 'test-3120.mid', 'test-3121.mid', 'test-3122.mid', 'test-3123.mid', 'test-3124.mid', 'test-3125.mid', 'test-3126.mid', 'test-3127.mid', 'test-3128.mid', 'test-3129.mid', 'test-3130.mid', 'test-3131.mid', 'test-3132.mid', 'test-3133.mid', 'test-3134.mid', 'test-3135.mid', 'test-3136.mid', 'test-3137.mid', 'test-3138.mid', 'test-3139.mid', 'test-3140.mid', 'test-3141.mid', 'test-3142.mid', 'test-3143.mid', 'test-3144.mid', 'test-3145.mid', 'test-3146.mid', 'test-3147.mid', 'test-3148.mid', 'test-3149.mid', 'test-3150.mid', 'test-3151.mid', 'test-3152.mid', 'test-3153.mid', 'test-3154.mid', 'test-3155.mid', 'test-3156.mid', 'test-3157.mid', 'test-3158.mid', 'test-3159.mid', 'test-3160.mid', 'test-3161.mid', 'test-3162.mid', 'test-3163.mid', 'test-3164.mid', 'test-3165.mid', 'test-3166.mid', 'test-3167.mid', 'test-3168.mid', 'test-3169.mid', 'test-3170.mid', 'test-3171.mid', 'test-3172.mid', 'test-3173.mid', 'test-3174.mid', 'test-3175.mid', 'test-3176.mid', 'test-3177.mid', 'test-3178.mid', 'test-3179.mid', 'test-3180.mid', 'test-3181.mid', 'test-3182.mid', 'test-3183.mid', 'test-3184.mid', 'test-3185.mid', 'test-3186.mid', 'test-3187.mid', 'test-3188.mid', 'test-3189.mid', 'test-3190.mid', 'test-3191.mid', 'test-3192.mid', 'test-3193.mid', 'test-3194.mid', 'test-3195.mid', 'test-3196.mid', 'test-3197.mid', 'test-3198.mid', 'test-3199.mid', 'test-3200.mid', 'test-3201.mid', 'test-3202.mid', 'test-3203.mid', 'test-3204.mid', 'test-3205.mid', 'test-3206.mid', 'test-3207.mid', 'test-3208.mid', 'test-3209.mid', 'test-3210.mid', 'test-3211.mid', 'test-3212.mid', 'test-3213.mid', 'test-3214.mid', 'test-3215.mid', 'test-3216.mid', 'test-3217.mid', 'test-3218.mid', 'test-3219.mid', 'test-3220.mid', 'test-3221.mid', 'test-3222.mid', 'test-3223.mid', 'test-3224.mid', 'test-3225.mid', 'test-3226.mid', 'test-3227.mid', 'test-3228.mid', 'test-3229.mid', 'test-3230.mid', 'test-3231.mid', 'test-3232.mid', 'test-3233.mid', 'test-3234.mid', 'test-3235.mid', 'test-3236.mid', 'test-3237.mid', 'test-3238.mid', 'test-3239.mid', 'test-3240.mid', 'test-3241.mid', 'test-3242.mid', 'test-3243.mid', 'test-3244.mid', 'test-3245.mid', 'test-3246.mid', 'test-3247.mid', 'test-3248.mid', 'test-3249.mid', 'test-3250.mid', 'test-3251.mid', 'test-3252.mid', 'test-3253.mid', 'test-3254.mid', 'test-3255.mid', 'test-3256.mid', 'test-3257.mid', 'test-3258.mid', 'test-3259.mid', 'test-3260.mid', 'test-3261.mid', 'test-3262.mid', 'test-3263.mid', 'test-3264.mid', 'test-3265.mid', 'test-3266.mid', 'test-3267.mid', 'test-3268.mid', 'test-3269.mid', 'test-3270.mid', 'test-3271.mid', 'test-3272.mid', 'test-3273.mid', 'test-3274.mid', 'test-3275.mid', 'test-3276.mid', 'test-3277.mid', 'test-3278.mid', 'test-3279.mid', 'test-3280.mid', 'test-3281.mid', 'test-3282.mid', 'test-3283.mid', 'test-3284.mid', 'test-3285.mid', 'test-3286.mid', 'test-3287.mid', 'test-3288.mid', 'test-3289.mid', 'test-3290.mid', 'test-3291.mid', 'test-3292.mid', 'test-3293.mid', 'test-3294.mid', 'test-3295.mid', 'test-3296.mid', 'test-3297.mid', 'test-3298.mid', 'test-3299.mid', 'test-3300.mid', 'test-3301.mid', 'test-3302.mid', 'test-3303.mid', 'test-3304.mid', 'test-3305.mid', 'test-3306.mid', 'test-3307.mid', 'test-3308.mid', 'test-3309.mid', 'test-3310.mid', 'test-3311.mid', 'test-3312.mid', 'test-3313.mid', 'test-3314.mid', 'test-3315.mid', 'test-3316.mid', 'test-3317.mid', 'test-3318.mid', 'test-3319.mid', 'test-3320.mid', 'test-3321.mid', 'test-3322.mid', 'test-3323.mid', 'test-3324.mid', 'test-3325.mid', 'test-3326.mid', 'test-3327.mid', 'test-3328.mid', 'test-3329.mid', 'test-3330.mid', 'test-3331.mid', 'test-3332.mid', 'test-3333.mid', 'test-3334.mid', 'test-3335.mid', 'test-3336.mid', 'test-3337.mid', 'test-3338.mid', 'test-3339.mid', 'test-3340.mid', 'test-3341.mid', 'test-3342.mid', 'test-3343.mid', 'test-3344.mid', 'test-3345.mid', 'test-3346.mid', 'test-3347.mid', 'test-3348.mid', 'test-3349.mid', 'test-3350.mid', 'test-3351.mid', 'test-3352.mid', 'test-3353.mid', 'test-3354.mid', 'test-3355.mid', 'test-3356.mid', 'test-3357.mid', 'test-3358.mid', 'test-3359.mid', 'test-3360.mid', 'test-3361.mid', 'test-3362.mid', 'test-3363.mid', 'test-3364.mid', 'test-3365.mid', 'test-3366.mid', 'test-3367.mid', 'test-3368.mid', 'test-3369.mid', 'test-3370.mid', 'test-3371.mid', 'test-3372.mid', 'test-3373.mid', 'test-3374.mid', 'test-3375.mid', 'test-3376.mid', 'test-3377.mid', 'test-3378.mid', 'test-3379.mid', 'test-3380.mid', 'test-3381.mid', 'test-3382.mid', 'test-3383.mid', 'test-3384.mid', 'test-3385.mid', 'test-3386.mid', 'test-3387.mid', 'test-3388.mid', 'test-3389.mid', 'test-3390.mid', 'test-3391.mid', 'test-3392.mid', 'test-3393.mid', 'test-3394.mid', 'test-3395.mid', 'test-3396.mid', 'test-3397.mid', 'test-3398.mid', 'test-3399.mid', 'test-3400.mid', 'test-3401.mid', 'test-3402.mid', 'test-3403.mid', 'test-3404.mid', 'test-3405.mid', 'test-3406.mid', 'test-3407.mid', 'test-3408.mid', 'test-3409.mid', 'test-3410.mid', 'test-3411.mid', 'test-3412.mid', 'test-3413.mid', 'test-3414.mid', 'test-3415.mid', 'test-3416.mid', 'test-3417.mid', 'test-3418.mid', 'test-3419.mid', 'test-3420.mid', 'test-3421.mid', 'test-3422.mid', 'test-3423.mid', 'test-3424.mid', 'test-3425.mid', 'test-3426.mid', 'test-3427.mid', 'test-3428.mid', 'test-3429.mid', 'test-3430.mid', 'test-3431.mid', 'test-3432.mid', 'test-3433.mid', 'test-3434.mid', 'test-3435.mid', 'test-3436.mid', 'test-3437.mid', 'test-3438.mid', 'test-3439.mid', 'test-3440.mid', 'test-3441.mid', 'test-3442.mid', 'test-3443.mid', 'test-3444.mid', 'test-3445.mid', 'test-3446.mid', 'test-3447.mid', 'test-3448.mid', 'test-3449.mid', 'test-3450.mid', 'test-3451.mid', 'test-3452.mid', 'test-3453.mid', 'test-3454.mid', 'test-3455.mid', 'test-3456.mid', 'test-3457.mid', 'test-3458.mid', 'test-3459.mid', 'test-3460.mid', 'test-3461.mid', 'test-3462.mid', 'test-3463.mid', 'test-3464.mid', 'test-3465.mid', 'test-3466.mid', 'test-3467.mid', 'test-3468.mid', 'test-3469.mid', 'test-3470.mid', 'test-3471.mid', 'test-3472.mid', 'test-3473.mid', 'test-3474.mid', 'test-3475.mid', 'test-3476.mid', 'test-3477.mid', 'test-3478.mid', 'test-3479.mid', 'test-3480.mid', 'test-3481.mid', 'test-3482.mid', 'test-3483.mid', 'test-3484.mid', 'test-3485.mid', 'test-3486.mid', 'test-3487.mid', 'test-3488.mid', 'test-3489.mid', 'test-3490.mid', 'test-3491.mid', 'test-3492.mid', 'test-3493.mid', 'test-3494.mid', 'test-3495.mid', 'test-3496.mid', 'test-3497.mid', 'test-3498.mid', 'test-3499.mid', 'test-3500.mid', 'test-3501.mid', 'test-3502.mid', 'test-3503.mid', 'test-3504.mid', 'test-3505.mid', 'test-3506.mid', 'test-3507.mid', 'test-3508.mid', 'test-3509.mid', 'test-3510.mid', 'test-3511.mid', 'test-3512.mid', 'test-3513.mid', 'test-3514.mid', 'test-3515.mid', 'test-3516.mid', 'test-3517.mid', 'test-3518.mid', 'test-3519.mid', 'test-3520.mid', 'test-3521.mid', 'test-3522.mid', 'test-3523.mid', 'test-3524.mid', 'test-3525.mid', 'test-3526.mid', 'test-3527.mid', 'test-3528.mid', 'test-3529.mid', 'test-3530.mid', 'test-3531.mid', 'test-3532.mid', 'test-3533.mid', 'test-3534.mid', 'test-3535.mid', 'test-3536.mid', 'test-3537.mid', 'test-3538.mid', 'test-3539.mid', 'test-3540.mid', 'test-3541.mid', 'test-3542.mid', 'test-3543.mid', 'test-3544.mid', 'test-3545.mid', 'test-3546.mid', 'test-3547.mid', 'test-3548.mid', 'test-3549.mid', 'test-3550.mid', 'test-3551.mid', 'test-3552.mid', 'test-3553.mid', 'test-3554.mid', 'test-3555.mid', 'test-3556.mid', 'test-3557.mid', 'test-3558.mid', 'test-3559.mid', 'test-3560.mid', 'test-3561.mid', 'test-3562.mid', 'test-3563.mid', 'test-3564.mid', 'test-3565.mid', 'test-3566.mid', 'test-3567.mid', 'test-3568.mid', 'test-3569.mid', 'test-3570.mid', 'test-3571.mid', 'test-3572.mid', 'test-3573.mid', 'test-3574.mid', 'test-3575.mid', 'test-3576.mid', 'test-3577.mid', 'test-3578.mid', 'test-3579.mid', 'test-3580.mid', 'test-3581.mid', 'test-3582.mid', 'test-3583.mid', 'test-3584.mid', 'test-3585.mid', 'test-3586.mid', 'test-3587.mid', 'test-3588.mid', 'test-3589.mid', 'test-3590.mid', 'test-3591.mid', 'test-3592.mid', 'test-3593.mid', 'test-3594.mid', 'test-3595.mid', 'test-3596.mid', 'test-3597.mid', 'test-3598.mid', 'test-3599.mid', 'test-3600.mid', 'test-3601.mid', 'test-3602.mid', 'test-3603.mid', 'test-3604.mid', 'test-3605.mid', 'test-3606.mid', 'test-3607.mid', 'test-3608.mid', 'test-3609.mid', 'test-3610.mid', 'test-3611.mid', 'test-3612.mid', 'test-3613.mid', 'test-3614.mid', 'test-3615.mid', 'test-3616.mid', 'test-3617.mid', 'test-3618.mid', 'test-3619.mid', 'test-3620.mid', 'test-3621.mid', 'test-3622.mid', 'test-3623.mid', 'test-3624.mid', 'test-3625.mid', 'test-3626.mid', 'test-3627.mid', 'test-3628.mid', 'test-3629.mid', 'test-3630.mid', 'test-3631.mid', 'test-3632.mid', 'test-3633.mid', 'test-3634.mid', 'test-3635.mid', 'test-3636.mid', 'test-3637.mid', 'test-3638.mid', 'test-3639.mid', 'test-3640.mid', 'test-3641.mid', 'test-3642.mid', 'test-3643.mid', 'test-3644.mid', 'test-3645.mid', 'test-3646.mid', 'test-3647.mid', 'test-3648.mid', 'test-3649.mid', 'test-3650.mid', 'test-3651.mid', 'test-3652.mid', 'test-3653.mid', 'test-3654.mid', 'test-3655.mid', 'test-3656.mid', 'test-3657.mid', 'test-3658.mid', 'test-3659.mid', 'test-3660.mid', 'test-3661.mid', 'test-3662.mid', 'test-3663.mid', 'test-3664.mid', 'test-3665.mid', 'test-3666.mid', 'test-3667.mid', 'test-3668.mid', 'test-3669.mid', 'test-3670.mid', 'test-3671.mid', 'test-3672.mid', 'test-3673.mid', 'test-3674.mid', 'test-3675.mid', 'test-3676.mid', 'test-3677.mid', 'test-3678.mid', 'test-3679.mid', 'test-3680.mid', 'test-3681.mid', 'test-3682.mid', 'test-3683.mid', 'test-3684.mid', 'test-3685.mid', 'test-3686.mid', 'test-3687.mid', 'test-3688.mid', 'test-3689.mid', 'test-3690.mid', 'test-3691.mid', 'test-3692.mid', 'test-3693.mid', 'test-3694.mid', 'test-3695.mid', 'test-3696.mid', 'test-3697.mid', 'test-3698.mid', 'test-3699.mid', 'test-3700.mid', 'test-3701.mid', 'test-3702.mid', 'test-3703.mid', 'test-3704.mid', 'test-3705.mid', 'test-3706.mid', 'test-3707.mid', 'test-3708.mid', 'test-3709.mid', 'test-3710.mid', 'test-3711.mid', 'test-3712.mid', 'test-3713.mid', 'test-3714.mid', 'test-3715.mid', 'test-3716.mid', 'test-3717.mid', 'test-3718.mid', 'test-3719.mid', 'test-3720.mid', 'test-3721.mid', 'test-3722.mid', 'test-3723.mid', 'test-3724.mid', 'test-3725.mid', 'test-3726.mid', 'test-3727.mid', 'test-3728.mid', 'test-3729.mid', 'test-3730.mid', 'test-3731.mid', 'test-3732.mid', 'test-3733.mid', 'test-3734.mid', 'test-3735.mid', 'test-3736.mid', 'test-3737.mid', 'test-3738.mid', 'test-3739.mid', 'test-3740.mid', 'test-3741.mid', 'test-3742.mid', 'test-3743.mid', 'test-3744.mid', 'test-3745.mid', 'test-3746.mid', 'test-3747.mid', 'test-3748.mid', 'test-3749.mid', 'test-3750.mid', 'test-3751.mid', 'test-3752.mid', 'test-3753.mid', 'test-3754.mid', 'test-3755.mid', 'test-3756.mid', 'test-3757.mid', 'test-3758.mid', 'test-3759.mid', 'test-3760.mid', 'test-3761.mid', 'test-3762.mid', 'test-3763.mid', 'test-3764.mid', 'test-3765.mid', 'test-3766.mid', 'test-3767.mid', 'test-3768.mid', 'test-3769.mid', 'test-3770.mid', 'test-3771.mid', 'test-3772.mid', 'test-3773.mid', 'test-3774.mid', 'test-3775.mid', 'test-3776.mid', 'test-3777.mid', 'test-3778.mid', 'test-3779.mid', 'test-3780.mid', 'test-3781.mid', 'test-3782.mid', 'test-3783.mid', 'test-3784.mid', 'test-3785.mid', 'test-3786.mid', 'test-3787.mid', 'test-3788.mid', 'test-3789.mid', 'test-3790.mid', 'test-3791.mid', 'test-3792.mid', 'test-3793.mid', 'test-3794.mid', 'test-3795.mid', 'test-3796.mid', 'test-3797.mid', 'test-3798.mid', 'test-3799.mid', 'test-3800.mid', 'test-3801.mid', 'test-3802.mid', 'test-3803.mid', 'test-3804.mid', 'test-3805.mid', 'test-3806.mid', 'test-3807.mid', 'test-3808.mid', 'test-3809.mid', 'test-3810.mid', 'test-3811.mid', 'test-3812.mid', 'test-3813.mid', 'test-3814.mid', 'test-3815.mid', 'test-3816.mid', 'test-3817.mid', 'test-3818.mid', 'test-3819.mid', 'test-3820.mid', 'test-3821.mid', 'test-3822.mid', 'test-3823.mid', 'test-3824.mid', 'test-3825.mid', 'test-3826.mid', 'test-3827.mid', 'test-3828.mid', 'test-3829.mid', 'test-3830.mid', 'test-3831.mid', 'test-3832.mid', 'test-3833.mid', 'test-3834.mid', 'test-3835.mid', 'test-3836.mid', 'test-3837.mid', 'test-3838.mid', 'test-3839.mid', 'test-3840.mid', 'test-3841.mid', 'test-3842.mid', 'test-3843.mid', 'test-3844.mid', 'test-3845.mid', 'test-3846.mid', 'test-3847.mid', 'test-3848.mid', 'test-3849.mid', 'test-3850.mid', 'test-3851.mid', 'test-3852.mid', 'test-3853.mid', 'test-3854.mid', 'test-3855.mid', 'test-3856.mid', 'test-3857.mid', 'test-3858.mid', 'test-3859.mid', 'test-3860.mid', 'test-3861.mid', 'test-3862.mid', 'test-3863.mid', 'test-3864.mid', 'test-3865.mid', 'test-3866.mid', 'test-3867.mid', 'test-3868.mid', 'test-3869.mid', 'test-3870.mid', 'test-3871.mid', 'test-3872.mid', 'test-3873.mid', 'test-3874.mid', 'test-3875.mid', 'test-3876.mid', 'test-3877.mid', 'test-3878.mid', 'test-3879.mid', 'test-3880.mid', 'test-3881.mid', 'test-3882.mid', 'test-3883.mid', 'test-3884.mid', 'test-3885.mid', 'test-3886.mid', 'test-3887.mid', 'test-3888.mid', 'test-3889.mid', 'test-3890.mid', 'test-3891.mid', 'test-3892.mid', 'test-3893.mid', 'test-3894.mid', 'test-3895.mid', 'test-3896.mid', 'test-3897.mid', 'test-3898.mid', 'test-3899.mid', 'test-3900.mid', 'test-3901.mid', 'test-3902.mid', 'test-3903.mid', 'test-3904.mid', 'test-3905.mid', 'test-3906.mid', 'test-3907.mid', 'test-3908.mid', 'test-3909.mid', 'test-3910.mid', 'test-3911.mid', 'test-3912.mid', 'test-3913.mid', 'test-3914.mid', 'test-3915.mid', 'test-3916.mid', 'test-3917.mid', 'test-3918.mid', 'test-3919.mid', 'test-3920.mid', 'test-3921.mid', 'test-3922.mid', 'test-3923.mid', 'test-3924.mid', 'test-3925.mid', 'test-3926.mid', 'test-3927.mid', 'test-3928.mid', 'test-3929.mid', 'test-3930.mid', 'test-3931.mid', 'test-3932.mid', 'test-3933.mid', 'test-3934.mid', 'test-3935.mid', 'test-3936.mid', 'test-3937.mid', 'test-3938.mid', 'test-3939.mid', 'test-3940.mid', 'test-3941.mid', 'test-3942.mid', 'test-3943.mid', 'test-3944.mid', 'test-3945.mid', 'test-3946.mid', 'test-3947.mid', 'test-3948.mid', 'test-3949.mid', 'test-3950.mid', 'test-3951.mid', 'test-3952.mid', 'test-3953.mid', 'test-3954.mid', 'test-3955.mid', 'test-3956.mid', 'test-3957.mid', 'test-3958.mid', 'test-3959.mid', 'test-3960.mid', 'test-3961.mid', 'test-3962.mid', 'test-3963.mid', 'test-3964.mid', 'test-3965.mid', 'test-3966.mid', 'test-3967.mid', 'test-3968.mid', 'test-3969.mid', 'test-3970.mid', 'test-3971.mid', 'test-3972.mid', 'test-3973.mid', 'test-3974.mid', 'test-3975.mid', 'test-3976.mid', 'test-3977.mid', 'test-3978.mid', 'test-3979.mid', 'test-3980.mid', 'test-3981.mid', 'test-3982.mid', 'test-3983.mid', 'test-3984.mid', 'test-3985.mid', 'test-3986.mid', 'test-3987.mid', 'test-3988.mid', 'test-3989.mid', 'test-3990.mid', 'test-3991.mid', 'test-3992.mid', 'test-3993.mid', 'test-3994.mid', 'test-3995.mid', 'test-3996.mid', 'test-3997.mid', 'test-3998.mid', 'test-3999.mid']\n"
          ],
          "name": "stdout"
        }
      ]
    },
    {
      "cell_type": "code",
      "metadata": {
        "id": "13CQ-eY0Gkcy",
        "colab_type": "code",
        "colab": {}
      },
      "source": [
        "df = pd.DataFrame({\"file_name\": filenames, \"score\": scores})\n",
        "df.to_csv(\"result.csv\", index=False, sep=\",\")"
      ],
      "execution_count": 33,
      "outputs": []
    },
    {
      "cell_type": "code",
      "metadata": {
        "id": "odpEPQPpJ0pK",
        "colab_type": "code",
        "colab": {
          "base_uri": "https://localhost:8080/",
          "height": 204
        },
        "outputId": "57d66c1f-6530-4cdb-c9ef-9958597a0d3a"
      },
      "source": [
        "df.head()"
      ],
      "execution_count": 34,
      "outputs": [
        {
          "output_type": "execute_result",
          "data": {
            "text/html": [
              "<div>\n",
              "<style scoped>\n",
              "    .dataframe tbody tr th:only-of-type {\n",
              "        vertical-align: middle;\n",
              "    }\n",
              "\n",
              "    .dataframe tbody tr th {\n",
              "        vertical-align: top;\n",
              "    }\n",
              "\n",
              "    .dataframe thead th {\n",
              "        text-align: right;\n",
              "    }\n",
              "</style>\n",
              "<table border=\"1\" class=\"dataframe\">\n",
              "  <thead>\n",
              "    <tr style=\"text-align: right;\">\n",
              "      <th></th>\n",
              "      <th>file_name</th>\n",
              "      <th>score</th>\n",
              "    </tr>\n",
              "  </thead>\n",
              "  <tbody>\n",
              "    <tr>\n",
              "      <th>0</th>\n",
              "      <td>test-0000.mid</td>\n",
              "      <td>0.03</td>\n",
              "    </tr>\n",
              "    <tr>\n",
              "      <th>1</th>\n",
              "      <td>test-0001.mid</td>\n",
              "      <td>0.04</td>\n",
              "    </tr>\n",
              "    <tr>\n",
              "      <th>2</th>\n",
              "      <td>test-0002.mid</td>\n",
              "      <td>0.80</td>\n",
              "    </tr>\n",
              "    <tr>\n",
              "      <th>3</th>\n",
              "      <td>test-0003.mid</td>\n",
              "      <td>0.03</td>\n",
              "    </tr>\n",
              "    <tr>\n",
              "      <th>4</th>\n",
              "      <td>test-0004.mid</td>\n",
              "      <td>0.03</td>\n",
              "    </tr>\n",
              "  </tbody>\n",
              "</table>\n",
              "</div>"
            ],
            "text/plain": [
              "       file_name  score\n",
              "0  test-0000.mid   0.03\n",
              "1  test-0001.mid   0.04\n",
              "2  test-0002.mid   0.80\n",
              "3  test-0003.mid   0.03\n",
              "4  test-0004.mid   0.03"
            ]
          },
          "metadata": {
            "tags": []
          },
          "execution_count": 34
        }
      ]
    }
  ]
}